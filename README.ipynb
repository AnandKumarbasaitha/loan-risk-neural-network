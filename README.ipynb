{
 "cells": [
  {
   "cell_type": "markdown",
   "execution_count": null,
   "metadata": {},
   "source": [
    "<div style=\"font-size: 16px; font-weight: 500; line-height: 1.4; font-style: italic; color: #6c757d; margin-bottom: 1em;\">\n",
    "  or, Ty Goes Into Far Too Much Detail About Cleaning Data\n",
    "</div>\n",
    "\n",
    "1. **[Introduction](#Introduction)**\n",
    "2. **[Data cleaning](#Data-cleaning)**\n",
    "3. **[Building the neural networks](#Building-the-neural-networks)**\n",
    "4. **[Saving the final model](#Saving-the-final-model)**\n",
    "5. **[Building the API](#Building-the-api)**\n",
    "\n",
    "## Introduction\n",
    "\n",
    "[LendingClub](https://www.lendingclub.com/) is the world's largest peer-to-peer lending platform. Until recently (through the end of 2018), LendingClub published a public dataset of all loans issued since the company's launch in 2007. I'm accessing the dataset [via Kaggle](https://www.kaggle.com/wordsforthewise/lending-club)."
   ]
  },
  {
   "cell_type": "code",
   "execution_count": 1,
   "metadata": {},
   "outputs": [
    {
     "data": {
      "text/plain": [
       "(2260701, 151)"
      ]
     },
     "execution_count": 1,
     "metadata": {},
     "output_type": "execute_result"
    }
   ],
   "source": [
    "import pandas as pd\n",
    "\n",
    "loans = pd.read_csv(\n",
    "    \"../input/lending-club/accepted_2007_to_2018q4.csv/accepted_2007_to_2018Q4.csv\",\n",
    "    low_memory=False,\n",
    ")\n",
    "\n",
    "loans.shape"
   ]
  },
  {
   "cell_type": "markdown",
   "execution_count": null,
   "metadata": {},
   "source": [
    "With 2,260,701 loans to look at and 151 potential variables, my goal is to create a neural network model to predict the fraction of an expected loan return that a prospective borrower will pay back. Afterward, I'll create a public API to serve that model.\n",
    "\n",
    "## Data cleaning\n",
    "\n",
    "I'll first look at the data dictionary (accessed from a [different Kaggle dataset](https://www.kaggle.com/wendykan/lending-club-loan-data)) to get an idea of how to create the desired output variable and which remaining features are available at the point of loan application (to avoid data leakage)."
   ]
  },
  {
   "cell_type": "code",
   "execution_count": 2,
   "metadata": {
    "_kg_hide-output": true
   },
   "outputs": [
    {
     "name": "stdout",
     "output_type": "stream",
     "text": [
      "•id: A unique LC assigned ID for the loan listing.\n",
      "•member_id: A unique LC assigned Id for the borrower member.\n",
      "•loan_amnt: The listed amount of the loan applied for by the borrower. If at some point in time, the credit department reduces the loan amount, then it will be reflected in this value.\n",
      "•funded_amnt: The total amount committed to that loan at that point in time.\n",
      "•funded_amnt_inv: The total amount committed by investors for that loan at that point in time.\n",
      "•term: The number of payments on the loan. Values are in months and can be either 36 or 60.\n",
      "•int_rate: Interest Rate on the loan\n",
      "•installment: The monthly payment owed by the borrower if the loan originates.\n",
      "•grade: LC assigned loan grade\n",
      "•sub_grade: LC assigned loan subgrade\n",
      "•emp_title: The job title supplied by the Borrower when applying for the loan.*\n",
      "•emp_length: Employment length in years. Possible values are between 0 and 10 where 0 means less than one year and 10 means ten or more years.\n",
      "•home_ownership: The home ownership status provided by the borrower during registration or obtained from the credit report. Our values are: RENT, OWN, MORTGAGE, OTHER\n",
      "•annual_inc: The self-reported annual income provided by the borrower during registration.\n",
      "•verification_status: Indicates if income was verified by LC, not verified, or if the income source was verified\n",
      "•issue_d: The month which the loan was funded\n",
      "•loan_status: Current status of the loan\n",
      "•pymnt_plan: Indicates if a payment plan has been put in place for the loan\n",
      "•url: URL for the LC page with listing data.\n",
      "•desc: Loan description provided by the borrower\n",
      "•purpose: A category provided by the borrower for the loan request.\n",
      "•title: The loan title provided by the borrower\n",
      "•zip_code: The first 3 numbers of the zip code provided by the borrower in the loan application.\n",
      "•addr_state: The state provided by the borrower in the loan application\n",
      "•dti: A ratio calculated using the borrower’s total monthly debt payments on the total debt obligations, excluding mortgage and the requested LC loan, divided by the borrower’s self-reported monthly income.\n",
      "•delinq_2yrs: The number of 30+ days past-due incidences of delinquency in the borrower's credit file for the past 2 years\n",
      "•earliest_cr_line: The month the borrower's earliest reported credit line was opened\n",
      "•fico_range_low: The lower boundary range the borrower’s FICO at loan origination belongs to.\n",
      "•fico_range_high: The upper boundary range the borrower’s FICO at loan origination belongs to.\n",
      "•inq_last_6mths: The number of inquiries in past 6 months (excluding auto and mortgage inquiries)\n",
      "•mths_since_last_delinq: The number of months since the borrower's last delinquency.\n",
      "•mths_since_last_record: The number of months since the last public record.\n",
      "•open_acc: The number of open credit lines in the borrower's credit file.\n",
      "•pub_rec: Number of derogatory public records\n",
      "•revol_bal: Total credit revolving balance\n",
      "•revol_util: Revolving line utilization rate, or the amount of credit the borrower is using relative to all available revolving credit.\n",
      "•total_acc: The total number of credit lines currently in the borrower's credit file\n",
      "•initial_list_status: The initial listing status of the loan. Possible values are – W, F\n",
      "•out_prncp: Remaining outstanding principal for total amount funded\n",
      "•out_prncp_inv: Remaining outstanding principal for portion of total amount funded by investors\n",
      "•total_pymnt: Payments received to date for total amount funded\n",
      "•total_pymnt_inv: Payments received to date for portion of total amount funded by investors\n",
      "•total_rec_prncp: Principal received to date\n",
      "•total_rec_int: Interest received to date\n",
      "•total_rec_late_fee: Late fees received to date\n",
      "•recoveries: post charge off gross recovery\n",
      "•collection_recovery_fee: post charge off collection fee\n",
      "•last_pymnt_d: Last month payment was received\n",
      "•last_pymnt_amnt: Last total payment amount received\n",
      "•next_pymnt_d: Next scheduled payment date\n",
      "•last_credit_pull_d: The most recent month LC pulled credit for this loan\n",
      "•last_fico_range_high: The upper boundary range the borrower’s last FICO pulled belongs to.\n",
      "•last_fico_range_low: The lower boundary range the borrower’s last FICO pulled belongs to.\n",
      "•collections_12_mths_ex_med: Number of collections in 12 months excluding medical collections\n",
      "•mths_since_last_major_derog: Months since most recent 90-day or worse rating\n",
      "•policy_code: publicly available policy_code=1\n",
      "new products not publicly available policy_code=2\n",
      "•application_type: Indicates whether the loan is an individual application or a joint application with two co-borrowers\n",
      "•annual_inc_joint: The combined self-reported annual income provided by the co-borrowers during registration\n",
      "•dti_joint: A ratio calculated using the co-borrowers' total monthly payments on the total debt obligations, excluding mortgages and the requested LC loan, divided by the co-borrowers' combined self-reported monthly income\n",
      "•verification_status_joint: Indicates if the co-borrowers' joint income was verified by LC, not verified, or if the income source was verified\n",
      "•acc_now_delinq: The number of accounts on which the borrower is now delinquent.\n",
      "•tot_coll_amt: Total collection amounts ever owed\n",
      "•tot_cur_bal: Total current balance of all accounts\n",
      "•open_acc_6m: Number of open trades in last 6 months\n",
      "•open_act_il: Number of currently active installment trades\n",
      "•open_il_12m: Number of installment accounts opened in past 12 months\n",
      "•open_il_24m: Number of installment accounts opened in past 24 months\n",
      "•mths_since_rcnt_il: Months since most recent installment accounts opened\n",
      "•total_bal_il: Total current balance of all installment accounts\n",
      "•il_util: Ratio of total current balance to high credit/credit limit on all install acct\n",
      "•open_rv_12m: Number of revolving trades opened in past 12 months\n",
      "•open_rv_24m: Number of revolving trades opened in past 24 months\n",
      "•max_bal_bc: Maximum current balance owed on all revolving accounts\n",
      "•all_util: Balance to credit limit on all trades\n",
      "•total_rev_hi_lim: Total revolving high credit/credit limit\n",
      "•inq_fi: Number of personal finance inquiries\n",
      "•total_cu_tl: Number of finance trades\n",
      "•inq_last_12m: Number of credit inquiries in past 12 months\n",
      "•acc_open_past_24mths: Number of trades opened in past 24 months.\n",
      "•avg_cur_bal: Average current balance of all accounts\n",
      "•bc_open_to_buy: Total open to buy on revolving bankcards.\n",
      "•bc_util: Ratio of total current balance to high credit/credit limit for all bankcard accounts.\n",
      "•chargeoff_within_12_mths: Number of charge-offs within 12 months\n",
      "•delinq_amnt: The past-due amount owed for the accounts on which the borrower is now delinquent.\n",
      "•mo_sin_old_il_acct: Months since oldest bank installment account opened\n",
      "•mo_sin_old_rev_tl_op: Months since oldest revolving account opened\n",
      "•mo_sin_rcnt_rev_tl_op: Months since most recent revolving account opened\n",
      "•mo_sin_rcnt_tl: Months since most recent account opened\n",
      "•mort_acc: Number of mortgage accounts.\n",
      "•mths_since_recent_bc: Months since most recent bankcard account opened.\n",
      "•mths_since_recent_bc_dlq: Months since most recent bankcard delinquency\n",
      "•mths_since_recent_inq: Months since most recent inquiry.\n",
      "•mths_since_recent_revol_delinq: Months since most recent revolving delinquency.\n",
      "•num_accts_ever_120_pd: Number of accounts ever 120 or more days past due\n",
      "•num_actv_bc_tl: Number of currently active bankcard accounts\n",
      "•num_actv_rev_tl: Number of currently active revolving trades\n",
      "•num_bc_sats: Number of satisfactory bankcard accounts\n",
      "•num_bc_tl: Number of bankcard accounts\n",
      "•num_il_tl: Number of installment accounts\n",
      "•num_op_rev_tl: Number of open revolving accounts\n",
      "•num_rev_accts: Number of revolving accounts\n",
      "•num_rev_tl_bal_gt_0: Number of revolving trades with balance >0\n",
      "•num_sats: Number of satisfactory accounts\n",
      "•num_tl_120dpd_2m: Number of accounts currently 120 days past due (updated in past 2 months)\n",
      "•num_tl_30dpd: Number of accounts currently 30 days past due (updated in past 2 months)\n",
      "•num_tl_90g_dpd_24m: Number of accounts 90 or more days past due in last 24 months\n",
      "•num_tl_op_past_12m: Number of accounts opened in past 12 months\n",
      "•pct_tl_nvr_dlq: Percent of trades never delinquent\n",
      "•percent_bc_gt_75: Percentage of all bankcard accounts > 75% of limit.\n",
      "•pub_rec_bankruptcies: Number of public record bankruptcies\n",
      "•tax_liens: Number of tax liens\n",
      "•tot_hi_cred_lim: Total high credit/credit limit\n",
      "•total_bal_ex_mort: Total credit balance excluding mortgage\n",
      "•total_bc_limit: Total bankcard high credit/credit limit\n",
      "•total_il_high_credit_limit: Total installment high credit/credit limit\n",
      "•revol_bal_joint: Sum of revolving credit balance of the co-borrowers, net of duplicate balances\n",
      "•sec_app_fico_range_low: FICO range (high) for the secondary applicant\n",
      "•sec_app_fico_range_high: FICO range (low) for the secondary applicant\n",
      "•sec_app_earliest_cr_line: Earliest credit line at time of application for the secondary applicant\n",
      "•sec_app_inq_last_6mths: Credit inquiries in the last 6 months at time of application for the secondary applicant\n",
      "•sec_app_mort_acc: Number of mortgage accounts at time of application for the secondary applicant\n",
      "•sec_app_open_acc: Number of open trades at time of application for the secondary applicant\n",
      "•sec_app_revol_util: Ratio of total current balance to high credit/credit limit for all revolving accounts\n",
      "•sec_app_open_act_il: Number of currently active installment trades at time of application for the secondary applicant\n",
      "•sec_app_num_rev_accts: Number of revolving accounts at time of application for the secondary applicant\n",
      "•sec_app_chargeoff_within_12_mths: Number of charge-offs within last 12 months at time of application for the secondary applicant\n",
      "•sec_app_collections_12_mths_ex_med: Number of collections within last 12 months excluding medical collections at time of application for the secondary applicant\n",
      "•sec_app_mths_since_last_major_derog: Months since most recent 90-day or worse rating at time of application for the secondary applicant\n",
      "•hardship_flag: Flags whether or not the borrower is on a hardship plan\n",
      "•hardship_type: Describes the hardship plan offering\n",
      "•hardship_reason: Describes the reason the hardship plan was offered\n",
      "•hardship_status: Describes if the hardship plan is active, pending, canceled, completed, or broken\n",
      "•deferral_term: Amount of months that the borrower is expected to pay less than the contractual monthly payment amount due to a hardship plan\n",
      "•hardship_amount: The interest payment that the borrower has committed to make each month while they are on a hardship plan\n",
      "•hardship_start_date: The start date of the hardship plan period\n",
      "•hardship_end_date: The end date of the hardship plan period\n",
      "•payment_plan_start_date: The day the first hardship plan payment is due. For example, if a borrower has a hardship plan period of 3 months, the start date is the start of the three-month period in which the borrower is allowed to make interest-only payments.\n",
      "•hardship_length: The number of months the borrower will make smaller payments than normally obligated due to a hardship plan\n",
      "•hardship_dpd: Account days past due as of the hardship plan start date\n",
      "•hardship_loan_status: Loan Status as of the hardship plan start date\n",
      "•orig_projected_additional_accrued_interest: The original projected additional interest amount that will accrue for the given hardship payment plan as of the Hardship Start Date. This field will be null if the borrower has broken their hardship payment plan.\n",
      "•hardship_payoff_balance_amount: The payoff balance amount as of the hardship plan start date\n",
      "•hardship_last_payment_amount: The last payment amount as of the hardship plan start date\n",
      "•disbursement_method: The method by which the borrower receives their loan. Possible values are: CASH, DIRECT_PAY\n",
      "•debt_settlement_flag: Flags whether or not the borrower, who has charged-off, is working with a debt-settlement company.\n",
      "•debt_settlement_flag_date: The most recent date that the Debt_Settlement_Flag has been set\n",
      "•settlement_status: The status of the borrower’s settlement plan. Possible values are: COMPLETE, ACTIVE, BROKEN, CANCELLED, DENIED, DRAFT\n",
      "•settlement_date: The date that the borrower agrees to the settlement plan\n",
      "•settlement_amount: The loan amount that the borrower has agreed to settle for\n",
      "•settlement_percentage: The settlement amount as a percentage of the payoff balance amount on the loan\n",
      "•settlement_term: The number of months that the borrower will be on the settlement plan\n"
     ]
    }
   ],
   "source": [
    "dictionary_df = pd.read_excel(\"../input/lending-club-loan-data/LCDataDictionary.xlsx\")\n",
    "\n",
    "# Drop blank rows, strip white space, convert to Python dictionary, fix one key name\n",
    "dictionary_df.dropna(axis=\"index\", inplace=True)\n",
    "dictionary_df = dictionary_df.applymap(lambda x: x.strip())\n",
    "dictionary_df.set_index(\"LoanStatNew\", inplace=True)\n",
    "dictionary = dictionary_df[\"Description\"].to_dict()\n",
    "dictionary[\"verification_status_joint\"] = dictionary.pop(\"verified_status_joint\")\n",
    "\n",
    "# Print in order of dataset columns (which makes more sense than dictionary's order)\n",
    "for col in loans.columns:\n",
    "    print(f\"•{col}: {dictionary[col]}\")\n",
    "\n",
    "# Hiding the output because it's quite a few lines, but feel free to take a peek by\n",
    "# clicking the \"Output\" button"
   ]
  },
  {
   "cell_type": "markdown",
   "execution_count": null,
   "metadata": {},
   "source": [
    "For the output variable (the fraction of expected return that was recovered), I'll calculated the _expected return_ by multiplying the monthly payment amount (`installment`) by the number of payments on the loan (`term`), and I'll calculate the _amount actually received_ by summing the total principle, interest, late fees, and post-chargeoff gross recovery received (`total_rec_prncp`, `total_rec_int`, `total_rec_late_fee`, `recoveries`) and subtracting any collection fee (`collection_recovery_fee`)."
   ]
  },
  {
   "cell_type": "code",
   "execution_count": 3,
   "metadata": {},
   "outputs": [],
   "source": [
    "cols_for_output = [\"term\", \"installment\", \"total_rec_prncp\", \"total_rec_int\", \"total_rec_late_fee\", \"recoveries\", \"collection_recovery_fee\"]"
   ]
  },
  {
   "cell_type": "markdown",
   "execution_count": null,
   "metadata": {},
   "source": [
    "Several other columns contain either irrelevant demographic data or data not created until after a loan is accepted, so those will need to be removed. I'll hold onto `issue_d` (the month and year the loan was funded) for now, though, in case I want to compare variables to the date of the loan.\n",
    "\n",
    "`emp_title` (the applicant's job title) _does_ seem relevant in the context of a loan, but it may have too many unique values to be useful."
   ]
  },
  {
   "cell_type": "code",
   "execution_count": 4,
   "metadata": {},
   "outputs": [
    {
     "data": {
      "text/plain": [
       "512694"
      ]
     },
     "execution_count": 4,
     "metadata": {},
     "output_type": "execute_result"
    }
   ],
   "source": [
    "loans[\"emp_title\"].nunique()"
   ]
  },
  {
   "cell_type": "markdown",
   "execution_count": null,
   "metadata": {},
   "source": [
    "Too many unique values indeed. In a future version of this model I could perhaps try to generate a feature from this column by aggregating job titles into categories, but that effort may have a low return on investment, since there are already columns for annual income and length of employment.\n",
    "\n",
    "Two other interesting columns that I'll also remove are `title` and `desc` (\"description\"), which are both freeform text entries written by the borrower. These could be fascinating subjects for natural language processing, but that's outside the scope of the current project. Perhaps in the future I could generate additional features from these fields using measures like syntactic complexity, word count, or keyword inclusion."
   ]
  },
  {
   "cell_type": "code",
   "execution_count": 5,
   "metadata": {},
   "outputs": [],
   "source": [
    "cols_to_drop = [\"id\", \"member_id\", \"funded_amnt\", \"funded_amnt_inv\", \"int_rate\", \"grade\", \"sub_grade\", \"emp_title\", \"pymnt_plan\", \"url\", \"desc\", \"title\", \"zip_code\", \"addr_state\", \"initial_list_status\", \"out_prncp\", \"out_prncp_inv\", \"total_pymnt\", \"total_pymnt_inv\", \"last_pymnt_d\", \"last_pymnt_amnt\", \"next_pymnt_d\", \"last_credit_pull_d\", \"last_fico_range_high\", \"last_fico_range_low\", \"policy_code\", \"hardship_flag\", \"hardship_type\", \"hardship_reason\", \"hardship_status\", \"deferral_term\", \"hardship_amount\", \"hardship_start_date\", \"hardship_end_date\", \"payment_plan_start_date\", \"hardship_length\", \"hardship_dpd\", \"hardship_loan_status\", \"orig_projected_additional_accrued_interest\", \"hardship_payoff_balance_amount\", \"hardship_last_payment_amount\", \"disbursement_method\", \"debt_settlement_flag\", \"debt_settlement_flag_date\", \"settlement_status\", \"settlement_date\", \"settlement_amount\", \"settlement_percentage\", \"settlement_term\"]\n",
    "\n",
    "loans = loans.drop(columns=cols_to_drop)"
   ]
  },
  {
   "cell_type": "markdown",
   "execution_count": null,
   "metadata": {},
   "source": [
    "Before creating the output variable, however, I must take a closer look at `loan_status`, to see if any loans in the dataset are still open."
   ]
  },
  {
   "cell_type": "code",
   "execution_count": 6,
   "metadata": {},
   "outputs": [
    {
     "data": {
      "text/plain": [
       "loan_status\n",
       "Charged Off                                             268559\n",
       "Current                                                 878317\n",
       "Default                                                     40\n",
       "Does not meet the credit policy. Status:Charged Off        761\n",
       "Does not meet the credit policy. Status:Fully Paid        1988\n",
       "Fully Paid                                             1076751\n",
       "In Grace Period                                           8436\n",
       "Late (16-30 days)                                         4349\n",
       "Late (31-120 days)                                       21467\n",
       "Name: loan_status, dtype: int64"
      ]
     },
     "execution_count": 6,
     "metadata": {},
     "output_type": "execute_result"
    }
   ],
   "source": [
    "loans.groupby(\"loan_status\")[\"loan_status\"].count()"
   ]
  },
  {
   "cell_type": "markdown",
   "execution_count": null,
   "metadata": {},
   "source": [
    "For practical purposes, I'll consider loans with statuses that don't contain \"Fully Paid\" or \"Charged Off\" to still be open, so I'll remove those from the dataset. I'll also merge the \"credit policy\" columns with their matching status."
   ]
  },
  {
   "cell_type": "code",
   "execution_count": 7,
   "metadata": {},
   "outputs": [
    {
     "data": {
      "text/plain": [
       "loan_status\n",
       "Charged Off     269320\n",
       "Fully Paid     1078739\n",
       "Name: loan_status, dtype: int64"
      ]
     },
     "execution_count": 7,
     "metadata": {},
     "output_type": "execute_result"
    }
   ],
   "source": [
    "credit_policy = \"Does not meet the credit policy. Status:\"\n",
    "len_credit_policy = len(credit_policy)\n",
    "remove_credit_policy = (\n",
    "    lambda status: status[len_credit_policy:]\n",
    "    if credit_policy in str(status)\n",
    "    else status\n",
    ")\n",
    "loans[\"loan_status\"] = loans[\"loan_status\"].map(remove_credit_policy)\n",
    "\n",
    "rows_to_drop = loans[\n",
    "    (loans[\"loan_status\"] != \"Charged Off\") & (loans[\"loan_status\"] != \"Fully Paid\")\n",
    "].index\n",
    "loans.drop(index=rows_to_drop, inplace=True)\n",
    "\n",
    "loans.groupby(\"loan_status\")[\"loan_status\"].count()"
   ]
  },
  {
   "cell_type": "markdown",
   "execution_count": null,
   "metadata": {},
   "source": [
    "Now to create the output variable. I'll start by checking the null counts of the variables involved."
   ]
  },
  {
   "cell_type": "code",
   "execution_count": 8,
   "metadata": {},
   "outputs": [
    {
     "name": "stdout",
     "output_type": "stream",
     "text": [
      "<class 'pandas.core.frame.DataFrame'>\n",
      "Int64Index: 1348059 entries, 0 to 2260697\n",
      "Data columns (total 7 columns):\n",
      " #   Column                   Non-Null Count    Dtype  \n",
      "---  ------                   --------------    -----  \n",
      " 0   term                     1348059 non-null  object \n",
      " 1   installment              1348059 non-null  float64\n",
      " 2   total_rec_prncp          1348059 non-null  float64\n",
      " 3   total_rec_int            1348059 non-null  float64\n",
      " 4   total_rec_late_fee       1348059 non-null  float64\n",
      " 5   recoveries               1348059 non-null  float64\n",
      " 6   collection_recovery_fee  1348059 non-null  float64\n",
      "dtypes: float64(6), object(1)\n",
      "memory usage: 82.3+ MB\n"
     ]
    }
   ],
   "source": [
    "loans[cols_for_output].info()"
   ]
  },
  {
   "cell_type": "markdown",
   "execution_count": null,
   "metadata": {},
   "source": [
    "Every remaining row has each of these seven variables, but `term`'s data type is `object`, so that needs to be fixed first."
   ]
  },
  {
   "cell_type": "code",
   "execution_count": 9,
   "metadata": {},
   "outputs": [
    {
     "data": {
      "text/plain": [
       "term\n",
       " 36 months    1023181\n",
       " 60 months     324878\n",
       "Name: term, dtype: int64"
      ]
     },
     "execution_count": 9,
     "metadata": {},
     "output_type": "execute_result"
    }
   ],
   "source": [
    "loans.groupby(\"term\")[\"term\"].count()"
   ]
  },
  {
   "cell_type": "markdown",
   "execution_count": null,
   "metadata": {},
   "source": [
    "Ah, so `term` is a categorical feature with two options. I'll treate it as such when I use it as an input to the model, but to calculate the ouput variable I'll create a numerical column from it.\n",
    "\n",
    "Also, I need to trim the whitespace from the beginning of those values—that's no good."
   ]
  },
  {
   "cell_type": "code",
   "execution_count": 10,
   "metadata": {},
   "outputs": [],
   "source": [
    "onehot_cols = [\"term\"]\n",
    "\n",
    "loans[\"term\"] = loans[\"term\"].map(lambda term_str: term_str.strip())\n",
    "\n",
    "extract_num = lambda term_str: float(term_str[:2])\n",
    "loans[\"term_num\"] = loans[\"term\"].map(extract_num)\n",
    "cols_for_output.remove(\"term\")\n",
    "cols_for_output.append(\"term_num\")"
   ]
  },
  {
   "cell_type": "markdown",
   "execution_count": null,
   "metadata": {},
   "source": [
    "_Now_ I can create the output variable."
   ]
  },
  {
   "cell_type": "code",
   "execution_count": 11,
   "metadata": {},
   "outputs": [
    {
     "data": {
      "text/html": [
       "<div>\n",
       "<style scoped>\n",
       "    .dataframe tbody tr th:only-of-type {\n",
       "        vertical-align: middle;\n",
       "    }\n",
       "\n",
       "    .dataframe tbody tr th {\n",
       "        vertical-align: top;\n",
       "    }\n",
       "\n",
       "    .dataframe thead th {\n",
       "        text-align: right;\n",
       "    }\n",
       "</style>\n",
       "<table border=\"1\" class=\"dataframe\">\n",
       "  <thead>\n",
       "    <tr style=\"text-align: right;\">\n",
       "      <th></th>\n",
       "      <th>count</th>\n",
       "      <th>mean</th>\n",
       "      <th>std</th>\n",
       "      <th>min</th>\n",
       "      <th>25%</th>\n",
       "      <th>50%</th>\n",
       "      <th>75%</th>\n",
       "      <th>max</th>\n",
       "    </tr>\n",
       "    <tr>\n",
       "      <th>loan_status</th>\n",
       "      <th></th>\n",
       "      <th></th>\n",
       "      <th></th>\n",
       "      <th></th>\n",
       "      <th></th>\n",
       "      <th></th>\n",
       "      <th></th>\n",
       "      <th></th>\n",
       "    </tr>\n",
       "  </thead>\n",
       "  <tbody>\n",
       "    <tr>\n",
       "      <th>Charged Off</th>\n",
       "      <td>269320.0</td>\n",
       "      <td>0.400162</td>\n",
       "      <td>0.219020</td>\n",
       "      <td>0.000000</td>\n",
       "      <td>0.224463</td>\n",
       "      <td>0.367554</td>\n",
       "      <td>0.550924</td>\n",
       "      <td>2.410680</td>\n",
       "    </tr>\n",
       "    <tr>\n",
       "      <th>Fully Paid</th>\n",
       "      <td>1078739.0</td>\n",
       "      <td>0.932705</td>\n",
       "      <td>0.100455</td>\n",
       "      <td>0.506053</td>\n",
       "      <td>0.897912</td>\n",
       "      <td>0.960100</td>\n",
       "      <td>0.997612</td>\n",
       "      <td>60.932353</td>\n",
       "    </tr>\n",
       "  </tbody>\n",
       "</table>\n",
       "</div>"
      ],
      "text/plain": [
       "                 count      mean       std       min       25%       50%  \\\n",
       "loan_status                                                                \n",
       "Charged Off   269320.0  0.400162  0.219020  0.000000  0.224463  0.367554   \n",
       "Fully Paid   1078739.0  0.932705  0.100455  0.506053  0.897912  0.960100   \n",
       "\n",
       "                  75%        max  \n",
       "loan_status                       \n",
       "Charged Off  0.550924   2.410680  \n",
       "Fully Paid   0.997612  60.932353  "
      ]
     },
     "execution_count": 11,
     "metadata": {},
     "output_type": "execute_result"
    }
   ],
   "source": [
    "received = (\n",
    "    loans[\"total_rec_prncp\"]\n",
    "    + loans[\"total_rec_int\"]\n",
    "    + loans[\"total_rec_late_fee\"]\n",
    "    + loans[\"recoveries\"]\n",
    "    - loans[\"collection_recovery_fee\"]\n",
    ")\n",
    "expected = loans[\"installment\"] * loans[\"term_num\"]\n",
    "loans[\"fraction_recovered\"] = received / expected\n",
    "\n",
    "loans.groupby(\"loan_status\")[\"fraction_recovered\"].describe()"
   ]
  },
  {
   "cell_type": "markdown",
   "execution_count": null,
   "metadata": {},
   "source": [
    "There is at least one odd outlier on the right in both categories. But also, many of the \"fully paid\" loans do not quite reach 1. One potential explanation is that when the last payment comes in, the system just flips `loan_status` to \"Fully Paid\" without adding the payment amount to the system itself, or perhaps simply multiplying `installation` by the `term` number leaves off a few cents in the actual total. If I were performing this analysis for Lending Club themselves, I'd ask them, but this is just a personal project. I'll consider every loan marked \"Fully Paid\" to have fully recovered the expected return.\n",
    "\n",
    "For that matter, I'll cap my `fraction_recovered` values for charged off loans at 1.0 as well, since at least one value is above that for some reason."
   ]
  },
  {
   "cell_type": "code",
   "execution_count": 12,
   "metadata": {},
   "outputs": [
    {
     "data": {
      "text/html": [
       "<div>\n",
       "<style scoped>\n",
       "    .dataframe tbody tr th:only-of-type {\n",
       "        vertical-align: middle;\n",
       "    }\n",
       "\n",
       "    .dataframe tbody tr th {\n",
       "        vertical-align: top;\n",
       "    }\n",
       "\n",
       "    .dataframe thead th {\n",
       "        text-align: right;\n",
       "    }\n",
       "</style>\n",
       "<table border=\"1\" class=\"dataframe\">\n",
       "  <thead>\n",
       "    <tr style=\"text-align: right;\">\n",
       "      <th></th>\n",
       "      <th>count</th>\n",
       "      <th>mean</th>\n",
       "      <th>std</th>\n",
       "      <th>min</th>\n",
       "      <th>25%</th>\n",
       "      <th>50%</th>\n",
       "      <th>75%</th>\n",
       "      <th>max</th>\n",
       "    </tr>\n",
       "    <tr>\n",
       "      <th>loan_status</th>\n",
       "      <th></th>\n",
       "      <th></th>\n",
       "      <th></th>\n",
       "      <th></th>\n",
       "      <th></th>\n",
       "      <th></th>\n",
       "      <th></th>\n",
       "      <th></th>\n",
       "    </tr>\n",
       "  </thead>\n",
       "  <tbody>\n",
       "    <tr>\n",
       "      <th>Charged Off</th>\n",
       "      <td>269320.0</td>\n",
       "      <td>0.400152</td>\n",
       "      <td>0.218971</td>\n",
       "      <td>0.0</td>\n",
       "      <td>0.224463</td>\n",
       "      <td>0.367554</td>\n",
       "      <td>0.550924</td>\n",
       "      <td>1.0</td>\n",
       "    </tr>\n",
       "    <tr>\n",
       "      <th>Fully Paid</th>\n",
       "      <td>1078739.0</td>\n",
       "      <td>1.000000</td>\n",
       "      <td>0.000000</td>\n",
       "      <td>1.0</td>\n",
       "      <td>1.000000</td>\n",
       "      <td>1.000000</td>\n",
       "      <td>1.000000</td>\n",
       "      <td>1.0</td>\n",
       "    </tr>\n",
       "  </tbody>\n",
       "</table>\n",
       "</div>"
      ],
      "text/plain": [
       "                 count      mean       std  min       25%       50%       75%  \\\n",
       "loan_status                                                                     \n",
       "Charged Off   269320.0  0.400152  0.218971  0.0  0.224463  0.367554  0.550924   \n",
       "Fully Paid   1078739.0  1.000000  0.000000  1.0  1.000000  1.000000  1.000000   \n",
       "\n",
       "             max  \n",
       "loan_status       \n",
       "Charged Off  1.0  \n",
       "Fully Paid   1.0  "
      ]
     },
     "execution_count": 12,
     "metadata": {},
     "output_type": "execute_result"
    }
   ],
   "source": [
    "import numpy as np\n",
    "\n",
    "loans[\"fraction_recovered\"] = np.where(\n",
    "    (loans[\"loan_status\"] == \"Fully Paid\") | (loans[\"fraction_recovered\"] > 1.0),\n",
    "    1.0,\n",
    "    loans[\"fraction_recovered\"],\n",
    ")\n",
    "loans.groupby(\"loan_status\")[\"fraction_recovered\"].describe()"
   ]
  },
  {
   "cell_type": "markdown",
   "execution_count": null,
   "metadata": {},
   "source": [
    "For the sake of curiosity, I'll plot the distribution of fraction recovered for charged-off loans."
   ]
  },
  {
   "cell_type": "code",
   "execution_count": 13,
   "metadata": {},
   "outputs": [
    {
     "data": {
      "image/png": "[encoded data removed]",
      "text/plain": [
       "<Figure size 432x288 with 1 Axes>"
      ]
     },
     "metadata": {
      "needs_background": "light"
     },
     "output_type": "display_data"
    }
   ],
   "source": [
    "import matplotlib.pyplot as plt\n",
    "%matplotlib inline\n",
    "import seaborn as sns\n",
    "\n",
    "sns.kdeplot(\n",
    "    data=loans[\"fraction_recovered\"][loans[\"loan_status\"] == \"Charged Off\"],\n",
    "    label=\"Charged Off\",\n",
    "    shade=True,\n",
    ")\n",
    "plt.axis(xmin=0, xmax=1)\n",
    "plt.title('Distribution of \"fraction recovered\"')\n",
    "plt.show()"
   ]
  },
  {
   "cell_type": "markdown",
   "execution_count": null,
   "metadata": {},
   "source": [
    "Now that the output is formatted, it's time to clean up the inputs. I'll check the null counts of each variable."
   ]
  },
  {
   "cell_type": "code",
   "execution_count": 14,
   "metadata": {},
   "outputs": [
    {
     "name": "stdout",
     "output_type": "stream",
     "text": [
      "<class 'pandas.core.frame.DataFrame'>\n",
      "Int64Index: 1348059 entries, 0 to 2260697\n",
      "Data columns (total 97 columns):\n",
      " #   Column                               Non-Null Count    Dtype  \n",
      "---  ------                               --------------    -----  \n",
      " 0   loan_amnt                            1348059 non-null  float64\n",
      " 1   term                                 1348059 non-null  object \n",
      " 2   emp_length                           1269514 non-null  object \n",
      " 3   home_ownership                       1348059 non-null  object \n",
      " 4   annual_inc                           1348055 non-null  float64\n",
      " 5   verification_status                  1348059 non-null  object \n",
      " 6   issue_d                              1348059 non-null  object \n",
      " 7   loan_status                          1348059 non-null  object \n",
      " 8   purpose                              1348059 non-null  object \n",
      " 9   dti                                  1347685 non-null  float64\n",
      " 10  delinq_2yrs                          1348030 non-null  float64\n",
      " 11  earliest_cr_line                     1348030 non-null  object \n",
      " 12  fico_range_low                       1348059 non-null  float64\n",
      " 13  fico_range_high                      1348059 non-null  float64\n",
      " 14  inq_last_6mths                       1348029 non-null  float64\n",
      " 15  mths_since_last_delinq               668117 non-null   float64\n",
      " 16  mths_since_last_record               229415 non-null   float64\n",
      " 17  open_acc                             1348030 non-null  float64\n",
      " 18  pub_rec                              1348030 non-null  float64\n",
      " 19  revol_bal                            1348059 non-null  float64\n",
      " 20  revol_util                           1347162 non-null  float64\n",
      " 21  total_acc                            1348030 non-null  float64\n",
      " 22  collections_12_mths_ex_med           1347914 non-null  float64\n",
      " 23  mths_since_last_major_derog          353750 non-null   float64\n",
      " 24  application_type                     1348059 non-null  object \n",
      " 25  annual_inc_joint                     25800 non-null    float64\n",
      " 26  dti_joint                            25797 non-null    float64\n",
      " 27  verification_status_joint            25595 non-null    object \n",
      " 28  acc_now_delinq                       1348030 non-null  float64\n",
      " 29  tot_coll_amt                         1277783 non-null  float64\n",
      " 30  tot_cur_bal                          1277783 non-null  float64\n",
      " 31  open_acc_6m                          537597 non-null   float64\n",
      " 32  open_act_il                          537598 non-null   float64\n",
      " 33  open_il_12m                          537598 non-null   float64\n",
      " 34  open_il_24m                          537598 non-null   float64\n",
      " 35  mths_since_rcnt_il                   523382 non-null   float64\n",
      " 36  total_bal_il                         537598 non-null   float64\n",
      " 37  il_util                              465016 non-null   float64\n",
      " 38  open_rv_12m                          537598 non-null   float64\n",
      " 39  open_rv_24m                          537598 non-null   float64\n",
      " 40  max_bal_bc                           537598 non-null   float64\n",
      " 41  all_util                             537545 non-null   float64\n",
      " 42  total_rev_hi_lim                     1277783 non-null  float64\n",
      " 43  inq_fi                               537598 non-null   float64\n",
      " 44  total_cu_tl                          537597 non-null   float64\n",
      " 45  inq_last_12m                         537597 non-null   float64\n",
      " 46  acc_open_past_24mths                 1298029 non-null  float64\n",
      " 47  avg_cur_bal                          1277761 non-null  float64\n",
      " 48  bc_open_to_buy                       1284167 non-null  float64\n",
      " 49  bc_util                              1283398 non-null  float64\n",
      " 50  chargeoff_within_12_mths             1347914 non-null  float64\n",
      " 51  delinq_amnt                          1348030 non-null  float64\n",
      " 52  mo_sin_old_il_acct                   1239735 non-null  float64\n",
      " 53  mo_sin_old_rev_tl_op                 1277782 non-null  float64\n",
      " 54  mo_sin_rcnt_rev_tl_op                1277782 non-null  float64\n",
      " 55  mo_sin_rcnt_tl                       1277783 non-null  float64\n",
      " 56  mort_acc                             1298029 non-null  float64\n",
      " 57  mths_since_recent_bc                 1285089 non-null  float64\n",
      " 58  mths_since_recent_bc_dlq             319020 non-null   float64\n",
      " 59  mths_since_recent_inq                1171239 non-null  float64\n",
      " 60  mths_since_recent_revol_delinq       449962 non-null   float64\n",
      " 61  num_accts_ever_120_pd                1277783 non-null  float64\n",
      " 62  num_actv_bc_tl                       1277783 non-null  float64\n",
      " 63  num_actv_rev_tl                      1277783 non-null  float64\n",
      " 64  num_bc_sats                          1289469 non-null  float64\n",
      " 65  num_bc_tl                            1277783 non-null  float64\n",
      " 66  num_il_tl                            1277783 non-null  float64\n",
      " 67  num_op_rev_tl                        1277783 non-null  float64\n",
      " 68  num_rev_accts                        1277782 non-null  float64\n",
      " 69  num_rev_tl_bal_gt_0                  1277783 non-null  float64\n",
      " 70  num_sats                             1289469 non-null  float64\n",
      " 71  num_tl_120dpd_2m                     1227909 non-null  float64\n",
      " 72  num_tl_30dpd                         1277783 non-null  float64\n",
      " 73  num_tl_90g_dpd_24m                   1277783 non-null  float64\n",
      " 74  num_tl_op_past_12m                   1277783 non-null  float64\n",
      " 75  pct_tl_nvr_dlq                       1277629 non-null  float64\n",
      " 76  percent_bc_gt_75                     1283755 non-null  float64\n",
      " 77  pub_rec_bankruptcies                 1346694 non-null  float64\n",
      " 78  tax_liens                            1347954 non-null  float64\n",
      " 79  tot_hi_cred_lim                      1277783 non-null  float64\n",
      " 80  total_bal_ex_mort                    1298029 non-null  float64\n",
      " 81  total_bc_limit                       1298029 non-null  float64\n",
      " 82  total_il_high_credit_limit           1277783 non-null  float64\n",
      " 83  revol_bal_joint                      18629 non-null    float64\n",
      " 84  sec_app_fico_range_low               18630 non-null    float64\n",
      " 85  sec_app_fico_range_high              18630 non-null    float64\n",
      " 86  sec_app_earliest_cr_line             18630 non-null    object \n",
      " 87  sec_app_inq_last_6mths               18630 non-null    float64\n",
      " 88  sec_app_mort_acc                     18630 non-null    float64\n",
      " 89  sec_app_open_acc                     18630 non-null    float64\n",
      " 90  sec_app_revol_util                   18302 non-null    float64\n",
      " 91  sec_app_open_act_il                  18630 non-null    float64\n",
      " 92  sec_app_num_rev_accts                18630 non-null    float64\n",
      " 93  sec_app_chargeoff_within_12_mths     18630 non-null    float64\n",
      " 94  sec_app_collections_12_mths_ex_med   18630 non-null    float64\n",
      " 95  sec_app_mths_since_last_major_derog  6645 non-null     float64\n",
      " 96  fraction_recovered                   1348059 non-null  float64\n",
      "dtypes: float64(86), object(11)\n",
      "memory usage: 1007.9+ MB\n"
     ]
    }
   ],
   "source": [
    "loans.drop(columns=cols_for_output, inplace=True)\n",
    "loans.info(verbose=True, null_counts=True)"
   ]
  },
  {
   "cell_type": "markdown",
   "execution_count": null,
   "metadata": {},
   "source": [
    "Remaining columns with lots of null values seem to fall into three categories:\n",
    "\n",
    "1. Derogatory/delinquency metrics (where null means the borrower doesn't have any such marks)\n",
    "  - I'll also add `mths_since_recent_inq` to this list, since its non-null count is below what seems to be the threshold for complete data, which is around 1,277,783. I'll assume a null value here means no recent inquiries.\n",
    "2. Metrics that only apply to joint applications (where null means it was a single application)\n",
    "3. An inexplicable series of 14 credit history–related columns that only have around 537,000 entries. Are these newer metrics?"
   ]
  },
  {
   "cell_type": "code",
   "execution_count": 15,
   "metadata": {},
   "outputs": [],
   "source": [
    "negative_mark_cols = [\"mths_since_last_delinq\", \"mths_since_last_record\", \"mths_since_last_major_derog\", \"mths_since_recent_bc_dlq\", \"mths_since_recent_inq\", \"mths_since_recent_revol_delinq\", \"mths_since_recent_revol_delinq\", \"sec_app_mths_since_last_major_derog\"]\n",
    "joint_cols = [\"annual_inc_joint\", \"dti_joint\", \"verification_status_joint\", \"revol_bal_joint\", \"sec_app_fico_range_low\", \"sec_app_fico_range_high\", \"sec_app_earliest_cr_line\", \"sec_app_inq_last_6mths\", \"sec_app_mort_acc\", \"sec_app_open_acc\", \"sec_app_revol_util\", \"sec_app_open_act_il\", \"sec_app_num_rev_accts\", \"sec_app_chargeoff_within_12_mths\", \"sec_app_collections_12_mths_ex_med\", \"sec_app_mths_since_last_major_derog\"]\n",
    "confusing_cols = [\"open_acc_6m\", \"open_act_il\", \"open_il_12m\", \"open_il_24m\", \"mths_since_rcnt_il\", \"total_bal_il\", \"il_util\", \"open_rv_12m\", \"open_rv_24m\", \"max_bal_bc\", \"all_util\", \"inq_fi\", \"total_cu_tl\", \"inq_last_12m\"]"
   ]
  },
  {
   "cell_type": "markdown",
   "execution_count": null,
   "metadata": {},
   "source": [
    "I'll first look at those more confusing columns to find out whether or not they're a newer set of metrics. That'll require converting `issue_d` to date format first."
   ]
  },
  {
   "cell_type": "code",
   "execution_count": 16,
   "metadata": {},
   "outputs": [
    {
     "data": {
      "text/plain": [
       "count                 464325\n",
       "min      2015-12-01 00:00:00\n",
       "max      2018-12-01 00:00:00\n",
       "Name: issue_d, dtype: object"
      ]
     },
     "execution_count": 16,
     "metadata": {},
     "output_type": "execute_result"
    }
   ],
   "source": [
    "loans[\"issue_d\"] = loans[\"issue_d\"].astype(\"datetime64[ns]\")\n",
    "\n",
    "# Check date range of confusing columns\n",
    "loans[confusing_cols + [\"issue_d\"]].dropna(axis=\"index\")[\"issue_d\"].agg(\n",
    "    [\"count\", \"min\", \"max\"]\n",
    ")"
   ]
  },
  {
   "cell_type": "code",
   "execution_count": 17,
   "metadata": {},
   "outputs": [
    {
     "data": {
      "text/plain": [
       "count                 557708\n",
       "min      2015-12-01 00:00:00\n",
       "max      2018-12-01 00:00:00\n",
       "Name: issue_d, dtype: object"
      ]
     },
     "execution_count": 17,
     "metadata": {},
     "output_type": "execute_result"
    }
   ],
   "source": [
    "# Compare to all entries from Dec 2015 onward\n",
    "loans[\"issue_d\"][loans[\"issue_d\"] >= np.datetime64(\"2015-12-01\")].agg(\n",
    "    [\"count\", \"min\", \"max\"]\n",
    ")"
   ]
  },
  {
   "cell_type": "markdown",
   "execution_count": null,
   "metadata": {},
   "source": [
    "It appears that these are indeed newer metrics, their use only beginning in December 2015, but even after that point usage is spotty. I'm curious to see if these additional metrics would make a model more accurate, though, so once I'm done cleaning the data I'll copy the rows with these new metrics into a new dataset and create another model using the new metrics."
   ]
  },
  {
   "cell_type": "code",
   "execution_count": 18,
   "metadata": {},
   "outputs": [],
   "source": [
    "new_metric_cols = confusing_cols"
   ]
  },
  {
   "cell_type": "markdown",
   "execution_count": null,
   "metadata": {},
   "source": [
    "As for the derogatory/delinquency metrics, taking a cue [from Michael Wurm](https://towardsdatascience.com/intelligent-loan-selection-for-peer-to-peer-lending-575dfa2573cb), I'm going to take the inverse of all the \"months since recent/last\" fields, which will turn each into a proxy for the frequency of the event and also let me set all the null values (when an event has never happened) to 0. For the \"months since oldest\" fields, I'll just set the null values to 0 and leave the rest untouched."
   ]
  },
  {
   "cell_type": "code",
   "execution_count": 19,
   "metadata": {},
   "outputs": [],
   "source": [
    "mths_since_last_cols = [\n",
    "    col_name\n",
    "    for col_name in loans.columns\n",
    "    if \"mths_since\" in col_name or \"mo_sin_rcnt\" in col_name\n",
    "]\n",
    "mths_since_old_cols = [\n",
    "    col_name for col_name in loans.columns if \"mo_sin_old\" in col_name\n",
    "]\n",
    "\n",
    "for col_name in mths_since_last_cols:\n",
    "    loans[col_name] = [\n",
    "        0.0 if pd.isna(months) else 1 / 1 if months == 0 else 1 / months\n",
    "        for months in loans[col_name]\n",
    "    ]\n",
    "loans.loc[:, mths_since_old_cols].fillna(0, inplace=True)\n",
    "\n",
    "# Rename inverse columns\n",
    "rename_mapper = {}\n",
    "for col_name in mths_since_last_cols:\n",
    "    rename_mapper[col_name] = col_name.replace(\"mths_since\", \"inv_mths_since\").replace(\n",
    "        \"mo_sin_rcnt\", \"inv_mo_sin_rcnt\"\n",
    "    )\n",
    "loans.rename(columns=rename_mapper, inplace=True)\n",
    "\n",
    "\n",
    "def replace_list_value(l, old_value, new_value):\n",
    "    i = l.index(old_value)\n",
    "    l.pop(i)\n",
    "    l.insert(i, new_value)\n",
    "\n",
    "\n",
    "replace_list_value(new_metric_cols, \"mths_since_rcnt_il\", \"inv_mths_since_rcnt_il\")\n",
    "replace_list_value(\n",
    "    joint_cols,\n",
    "    \"sec_app_mths_since_last_major_derog\",\n",
    "    \"sec_app_inv_mths_since_last_major_derog\",\n",
    ")"
   ]
  },
  {
   "cell_type": "markdown",
   "execution_count": null,
   "metadata": {},
   "source": [
    "Now to look closer at joint loans."
   ]
  },
  {
   "cell_type": "code",
   "execution_count": 20,
   "metadata": {},
   "outputs": [
    {
     "data": {
      "text/plain": [
       "application_type\n",
       "Individual    1322259\n",
       "Joint App       25800\n",
       "Name: application_type, dtype: int64"
      ]
     },
     "execution_count": 20,
     "metadata": {},
     "output_type": "execute_result"
    }
   ],
   "source": [
    "loans.groupby(\"application_type\")[\"application_type\"].count()"
   ]
  },
  {
   "cell_type": "code",
   "execution_count": 21,
   "metadata": {},
   "outputs": [
    {
     "name": "stdout",
     "output_type": "stream",
     "text": [
      "<class 'pandas.core.frame.DataFrame'>\n",
      "Int64Index: 25800 entries, 2 to 2260663\n",
      "Data columns (total 16 columns):\n",
      " #   Column                                   Non-Null Count  Dtype  \n",
      "---  ------                                   --------------  -----  \n",
      " 0   annual_inc_joint                         25800 non-null  float64\n",
      " 1   dti_joint                                25797 non-null  float64\n",
      " 2   verification_status_joint                25595 non-null  object \n",
      " 3   revol_bal_joint                          18629 non-null  float64\n",
      " 4   sec_app_fico_range_low                   18630 non-null  float64\n",
      " 5   sec_app_fico_range_high                  18630 non-null  float64\n",
      " 6   sec_app_earliest_cr_line                 18630 non-null  object \n",
      " 7   sec_app_inq_last_6mths                   18630 non-null  float64\n",
      " 8   sec_app_mort_acc                         18630 non-null  float64\n",
      " 9   sec_app_open_acc                         18630 non-null  float64\n",
      " 10  sec_app_revol_util                       18302 non-null  float64\n",
      " 11  sec_app_open_act_il                      18630 non-null  float64\n",
      " 12  sec_app_num_rev_accts                    18630 non-null  float64\n",
      " 13  sec_app_chargeoff_within_12_mths         18630 non-null  float64\n",
      " 14  sec_app_collections_12_mths_ex_med       18630 non-null  float64\n",
      " 15  sec_app_inv_mths_since_last_major_derog  25800 non-null  float64\n",
      "dtypes: float64(14), object(2)\n",
      "memory usage: 3.3+ MB\n"
     ]
    }
   ],
   "source": [
    "joint_loans = loans[:][loans[\"application_type\"] == \"Joint App\"]\n",
    "joint_loans[joint_cols].info()"
   ]
  },
  {
   "cell_type": "markdown",
   "execution_count": null,
   "metadata": {},
   "source": [
    "It seems there may be a case of newer metrics for joint applications as well. I'll investigate."
   ]
  },
  {
   "cell_type": "code",
   "execution_count": 22,
   "metadata": {},
   "outputs": [
    {
     "data": {
      "text/plain": [
       "count                  18301\n",
       "min      2017-03-01 00:00:00\n",
       "max      2018-12-01 00:00:00\n",
       "Name: issue_d, dtype: object"
      ]
     },
     "execution_count": 22,
     "metadata": {},
     "output_type": "execute_result"
    }
   ],
   "source": [
    "joint_new_metric_cols = [\"revol_bal_joint\", \"sec_app_fico_range_low\", \"sec_app_fico_range_high\", \"sec_app_earliest_cr_line\", \"sec_app_inq_last_6mths\", \"sec_app_mort_acc\", \"sec_app_open_acc\", \"sec_app_revol_util\", \"sec_app_open_act_il\", \"sec_app_num_rev_accts\", \"sec_app_chargeoff_within_12_mths\", \"sec_app_collections_12_mths_ex_med\", \"sec_app_inv_mths_since_last_major_derog\"]\n",
    "joint_loans[joint_new_metric_cols + [\"issue_d\"]].dropna(axis=\"index\")[\"issue_d\"].agg(\n",
    "    [\"count\", \"min\", \"max\"]\n",
    ")"
   ]
  },
  {
   "cell_type": "code",
   "execution_count": 23,
   "metadata": {},
   "outputs": [
    {
     "data": {
      "text/plain": [
       "count                  18629\n",
       "min      2017-03-01 00:00:00\n",
       "max      2018-12-01 00:00:00\n",
       "Name: issue_d, dtype: object"
      ]
     },
     "execution_count": 23,
     "metadata": {},
     "output_type": "execute_result"
    }
   ],
   "source": [
    "# Check without `sec_app_revol_util` column\n",
    "joint_new_metric_cols_2 = [\"revol_bal_joint\", \"sec_app_fico_range_low\", \"sec_app_fico_range_high\", \"sec_app_earliest_cr_line\", \"sec_app_inq_last_6mths\", \"sec_app_mort_acc\", \"sec_app_open_acc\", \"sec_app_open_act_il\", \"sec_app_num_rev_accts\", \"sec_app_chargeoff_within_12_mths\", \"sec_app_collections_12_mths_ex_med\", \"sec_app_inv_mths_since_last_major_derog\"]\n",
    "joint_loans[joint_new_metric_cols_2 + [\"issue_d\"]].dropna(axis=\"index\")[\"issue_d\"].agg(\n",
    "    [\"count\", \"min\", \"max\"]\n",
    ")"
   ]
  },
  {
   "cell_type": "markdown",
   "execution_count": null,
   "metadata": {},
   "source": [
    "Newer than the previous set of new metrics, even—these didn't start getting used till March 2017. Now I wonder when joint loans were first introduced."
   ]
  },
  {
   "cell_type": "code",
   "execution_count": 24,
   "metadata": {},
   "outputs": [
    {
     "data": {
      "text/plain": [
       "count                  25800\n",
       "min      2015-10-01 00:00:00\n",
       "max      2018-12-01 00:00:00\n",
       "Name: issue_d, dtype: object"
      ]
     },
     "execution_count": 24,
     "metadata": {},
     "output_type": "execute_result"
    }
   ],
   "source": [
    "joint_loans[\"issue_d\"].agg([\"count\", \"min\", \"max\"])"
   ]
  },
  {
   "cell_type": "markdown",
   "execution_count": null,
   "metadata": {},
   "source": [
    "2015\\. I think I'll save the newer joint metrics for perhaps a third model, but I believe I can include `annual_inc_joint`, `dti_joint`, and `verification_status_joint` in the main model—I'll just binary-encode `application_type`, and for individual applications I'll set `annual_inc_joint`, `dti_joint`, and `verification_status_joint` equal to their non-joint counterparts."
   ]
  },
  {
   "cell_type": "code",
   "execution_count": 25,
   "metadata": {},
   "outputs": [
    {
     "name": "stdout",
     "output_type": "stream",
     "text": [
      "<class 'pandas.core.frame.DataFrame'>\n",
      "Int64Index: 1348059 entries, 0 to 2260697\n",
      "Data columns (total 97 columns):\n",
      " #   Column                                   Non-Null Count    Dtype         \n",
      "---  ------                                   --------------    -----         \n",
      " 0   loan_amnt                                1348059 non-null  float64       \n",
      " 1   term                                     1348059 non-null  object        \n",
      " 2   emp_length                               1269514 non-null  object        \n",
      " 3   home_ownership                           1348059 non-null  object        \n",
      " 4   annual_inc                               1348055 non-null  float64       \n",
      " 5   verification_status                      1348059 non-null  object        \n",
      " 6   issue_d                                  1348059 non-null  datetime64[ns]\n",
      " 7   loan_status                              1348059 non-null  object        \n",
      " 8   purpose                                  1348059 non-null  object        \n",
      " 9   dti                                      1347685 non-null  float64       \n",
      " 10  delinq_2yrs                              1348030 non-null  float64       \n",
      " 11  earliest_cr_line                         1348030 non-null  object        \n",
      " 12  fico_range_low                           1348059 non-null  float64       \n",
      " 13  fico_range_high                          1348059 non-null  float64       \n",
      " 14  inq_last_6mths                           1348029 non-null  float64       \n",
      " 15  inv_mths_since_last_delinq               1348059 non-null  float64       \n",
      " 16  inv_mths_since_last_record               1348059 non-null  float64       \n",
      " 17  open_acc                                 1348030 non-null  float64       \n",
      " 18  pub_rec                                  1348030 non-null  float64       \n",
      " 19  revol_bal                                1348059 non-null  float64       \n",
      " 20  revol_util                               1347162 non-null  float64       \n",
      " 21  total_acc                                1348030 non-null  float64       \n",
      " 22  collections_12_mths_ex_med               1347914 non-null  float64       \n",
      " 23  inv_mths_since_last_major_derog          1348059 non-null  float64       \n",
      " 24  application_type                         1348059 non-null  object        \n",
      " 25  annual_inc_joint                         1348055 non-null  float64       \n",
      " 26  dti_joint                                1348056 non-null  float64       \n",
      " 27  verification_status_joint                1347854 non-null  object        \n",
      " 28  acc_now_delinq                           1348030 non-null  float64       \n",
      " 29  tot_coll_amt                             1277783 non-null  float64       \n",
      " 30  tot_cur_bal                              1277783 non-null  float64       \n",
      " 31  open_acc_6m                              537597 non-null   float64       \n",
      " 32  open_act_il                              537598 non-null   float64       \n",
      " 33  open_il_12m                              537598 non-null   float64       \n",
      " 34  open_il_24m                              537598 non-null   float64       \n",
      " 35  inv_mths_since_rcnt_il                   1348059 non-null  float64       \n",
      " 36  total_bal_il                             537598 non-null   float64       \n",
      " 37  il_util                                  465016 non-null   float64       \n",
      " 38  open_rv_12m                              537598 non-null   float64       \n",
      " 39  open_rv_24m                              537598 non-null   float64       \n",
      " 40  max_bal_bc                               537598 non-null   float64       \n",
      " 41  all_util                                 537545 non-null   float64       \n",
      " 42  total_rev_hi_lim                         1277783 non-null  float64       \n",
      " 43  inq_fi                                   537598 non-null   float64       \n",
      " 44  total_cu_tl                              537597 non-null   float64       \n",
      " 45  inq_last_12m                             537597 non-null   float64       \n",
      " 46  acc_open_past_24mths                     1298029 non-null  float64       \n",
      " 47  avg_cur_bal                              1277761 non-null  float64       \n",
      " 48  bc_open_to_buy                           1284167 non-null  float64       \n",
      " 49  bc_util                                  1283398 non-null  float64       \n",
      " 50  chargeoff_within_12_mths                 1347914 non-null  float64       \n",
      " 51  delinq_amnt                              1348030 non-null  float64       \n",
      " 52  mo_sin_old_il_acct                       1239735 non-null  float64       \n",
      " 53  mo_sin_old_rev_tl_op                     1277782 non-null  float64       \n",
      " 54  inv_mo_sin_rcnt_rev_tl_op                1348059 non-null  float64       \n",
      " 55  inv_mo_sin_rcnt_tl                       1348059 non-null  float64       \n",
      " 56  mort_acc                                 1298029 non-null  float64       \n",
      " 57  inv_mths_since_recent_bc                 1348059 non-null  float64       \n",
      " 58  inv_mths_since_recent_bc_dlq             1348059 non-null  float64       \n",
      " 59  inv_mths_since_recent_inq                1348059 non-null  float64       \n",
      " 60  inv_mths_since_recent_revol_delinq       1348059 non-null  float64       \n",
      " 61  num_accts_ever_120_pd                    1277783 non-null  float64       \n",
      " 62  num_actv_bc_tl                           1277783 non-null  float64       \n",
      " 63  num_actv_rev_tl                          1277783 non-null  float64       \n",
      " 64  num_bc_sats                              1289469 non-null  float64       \n",
      " 65  num_bc_tl                                1277783 non-null  float64       \n",
      " 66  num_il_tl                                1277783 non-null  float64       \n",
      " 67  num_op_rev_tl                            1277783 non-null  float64       \n",
      " 68  num_rev_accts                            1277782 non-null  float64       \n",
      " 69  num_rev_tl_bal_gt_0                      1277783 non-null  float64       \n",
      " 70  num_sats                                 1289469 non-null  float64       \n",
      " 71  num_tl_120dpd_2m                         1227909 non-null  float64       \n",
      " 72  num_tl_30dpd                             1277783 non-null  float64       \n",
      " 73  num_tl_90g_dpd_24m                       1277783 non-null  float64       \n",
      " 74  num_tl_op_past_12m                       1277783 non-null  float64       \n",
      " 75  pct_tl_nvr_dlq                           1277629 non-null  float64       \n",
      " 76  percent_bc_gt_75                         1283755 non-null  float64       \n",
      " 77  pub_rec_bankruptcies                     1346694 non-null  float64       \n",
      " 78  tax_liens                                1347954 non-null  float64       \n",
      " 79  tot_hi_cred_lim                          1277783 non-null  float64       \n",
      " 80  total_bal_ex_mort                        1298029 non-null  float64       \n",
      " 81  total_bc_limit                           1298029 non-null  float64       \n",
      " 82  total_il_high_credit_limit               1277783 non-null  float64       \n",
      " 83  revol_bal_joint                          18629 non-null    float64       \n",
      " 84  sec_app_fico_range_low                   18630 non-null    float64       \n",
      " 85  sec_app_fico_range_high                  18630 non-null    float64       \n",
      " 86  sec_app_earliest_cr_line                 18630 non-null    object        \n",
      " 87  sec_app_inq_last_6mths                   18630 non-null    float64       \n",
      " 88  sec_app_mort_acc                         18630 non-null    float64       \n",
      " 89  sec_app_open_acc                         18630 non-null    float64       \n",
      " 90  sec_app_revol_util                       18302 non-null    float64       \n",
      " 91  sec_app_open_act_il                      18630 non-null    float64       \n",
      " 92  sec_app_num_rev_accts                    18630 non-null    float64       \n",
      " 93  sec_app_chargeoff_within_12_mths         18630 non-null    float64       \n",
      " 94  sec_app_collections_12_mths_ex_med       18630 non-null    float64       \n",
      " 95  sec_app_inv_mths_since_last_major_derog  1348059 non-null  float64       \n",
      " 96  fraction_recovered                       1348059 non-null  float64       \n",
      "dtypes: datetime64[ns](1), float64(86), object(10)\n",
      "memory usage: 1007.9+ MB\n"
     ]
    }
   ],
   "source": [
    "onehot_cols.append(\"application_type\")\n",
    "\n",
    "# Fill joint columns in individual applications\n",
    "for joint_col, indiv_col in zip(\n",
    "    [\"annual_inc_joint\", \"dti_joint\", \"verification_status_joint\"],\n",
    "    [\"annual_inc\", \"dti\", \"verification_status\"],\n",
    "):\n",
    "    loans[joint_col] = [\n",
    "        joint_val if app_type == \"Joint App\" else indiv_val\n",
    "        for app_type, joint_val, indiv_val in zip(\n",
    "            loans[\"application_type\"], loans[joint_col], loans[indiv_col]\n",
    "        )\n",
    "    ]\n",
    "\n",
    "loans.info(verbose=True, null_counts=True)"
   ]
  },
  {
   "cell_type": "markdown",
   "execution_count": null,
   "metadata": {},
   "source": [
    "Now the only remaining steps should be removing rows with null values (in columns that aren't new metrics) and encoding categorical features.\n",
    "\n",
    "I'm _removing_ rows with null values in those columns because that should still leave the vast majority of rows intact, over 1 million, which is still plenty of data. But I guess I should make sure before I overwrite `loans`."
   ]
  },
  {
   "cell_type": "code",
   "execution_count": 26,
   "metadata": {},
   "outputs": [
    {
     "data": {
      "text/plain": [
       "(1110171, 97)"
      ]
     },
     "execution_count": 26,
     "metadata": {},
     "output_type": "execute_result"
    }
   ],
   "source": [
    "cols_to_search = [\n",
    "    col for col in loans.columns if col not in new_metric_cols + joint_new_metric_cols\n",
    "]\n",
    "loans.dropna(axis=\"index\", subset=cols_to_search).shape"
   ]
  },
  {
   "cell_type": "markdown",
   "execution_count": null,
   "metadata": {},
   "source": [
    "Yes, still 1,110,171. That'll do."
   ]
  },
  {
   "cell_type": "code",
   "execution_count": 27,
   "metadata": {},
   "outputs": [],
   "source": [
    "loans.dropna(axis=\"index\", subset=cols_to_search, inplace=True)"
   ]
  },
  {
   "cell_type": "markdown",
   "execution_count": null,
   "metadata": {},
   "source": [
    "Then actually I'll tackle `earliest_cr_line` and its joint counterpart first before looking at the categorical features."
   ]
  },
  {
   "cell_type": "code",
   "execution_count": 28,
   "metadata": {},
   "outputs": [
    {
     "data": {
      "text/html": [
       "<div>\n",
       "<style scoped>\n",
       "    .dataframe tbody tr th:only-of-type {\n",
       "        vertical-align: middle;\n",
       "    }\n",
       "\n",
       "    .dataframe tbody tr th {\n",
       "        vertical-align: top;\n",
       "    }\n",
       "\n",
       "    .dataframe thead th {\n",
       "        text-align: right;\n",
       "    }\n",
       "</style>\n",
       "<table border=\"1\" class=\"dataframe\">\n",
       "  <thead>\n",
       "    <tr style=\"text-align: right;\">\n",
       "      <th></th>\n",
       "      <th>earliest_cr_line</th>\n",
       "      <th>sec_app_earliest_cr_line</th>\n",
       "    </tr>\n",
       "  </thead>\n",
       "  <tbody>\n",
       "    <tr>\n",
       "      <th>0</th>\n",
       "      <td>Aug-2003</td>\n",
       "      <td>NaN</td>\n",
       "    </tr>\n",
       "    <tr>\n",
       "      <th>1</th>\n",
       "      <td>Dec-1999</td>\n",
       "      <td>NaN</td>\n",
       "    </tr>\n",
       "    <tr>\n",
       "      <th>2</th>\n",
       "      <td>Aug-2000</td>\n",
       "      <td>NaN</td>\n",
       "    </tr>\n",
       "    <tr>\n",
       "      <th>4</th>\n",
       "      <td>Jun-1998</td>\n",
       "      <td>NaN</td>\n",
       "    </tr>\n",
       "    <tr>\n",
       "      <th>5</th>\n",
       "      <td>Oct-1987</td>\n",
       "      <td>NaN</td>\n",
       "    </tr>\n",
       "    <tr>\n",
       "      <th>...</th>\n",
       "      <td>...</td>\n",
       "      <td>...</td>\n",
       "    </tr>\n",
       "    <tr>\n",
       "      <th>2260688</th>\n",
       "      <td>Jul-2004</td>\n",
       "      <td>NaN</td>\n",
       "    </tr>\n",
       "    <tr>\n",
       "      <th>2260690</th>\n",
       "      <td>Mar-2002</td>\n",
       "      <td>NaN</td>\n",
       "    </tr>\n",
       "    <tr>\n",
       "      <th>2260691</th>\n",
       "      <td>Jun-2011</td>\n",
       "      <td>NaN</td>\n",
       "    </tr>\n",
       "    <tr>\n",
       "      <th>2260692</th>\n",
       "      <td>Aug-1997</td>\n",
       "      <td>NaN</td>\n",
       "    </tr>\n",
       "    <tr>\n",
       "      <th>2260697</th>\n",
       "      <td>Jul-1999</td>\n",
       "      <td>NaN</td>\n",
       "    </tr>\n",
       "  </tbody>\n",
       "</table>\n",
       "<p>1110171 rows × 2 columns</p>\n",
       "</div>"
      ],
      "text/plain": [
       "        earliest_cr_line sec_app_earliest_cr_line\n",
       "0               Aug-2003                      NaN\n",
       "1               Dec-1999                      NaN\n",
       "2               Aug-2000                      NaN\n",
       "4               Jun-1998                      NaN\n",
       "5               Oct-1987                      NaN\n",
       "...                  ...                      ...\n",
       "2260688         Jul-2004                      NaN\n",
       "2260690         Mar-2002                      NaN\n",
       "2260691         Jun-2011                      NaN\n",
       "2260692         Aug-1997                      NaN\n",
       "2260697         Jul-1999                      NaN\n",
       "\n",
       "[1110171 rows x 2 columns]"
      ]
     },
     "execution_count": 28,
     "metadata": {},
     "output_type": "execute_result"
    }
   ],
   "source": [
    "loans[[\"earliest_cr_line\", \"sec_app_earliest_cr_line\"]]"
   ]
  },
  {
   "cell_type": "markdown",
   "execution_count": null,
   "metadata": {},
   "source": [
    "I should convert that to the age of the credit line at the time of application (or the time of loan issuing, more precisely)."
   ]
  },
  {
   "cell_type": "code",
   "execution_count": 29,
   "metadata": {},
   "outputs": [
    {
     "data": {
      "text/plain": [
       "0          148\n",
       "1          192\n",
       "2          184\n",
       "4          210\n",
       "5          338\n",
       "          ... \n",
       "2260688    147\n",
       "2260690    175\n",
       "2260691     64\n",
       "2260692    230\n",
       "2260697    207\n",
       "Length: 1110171, dtype: int64"
      ]
     },
     "execution_count": 29,
     "metadata": {},
     "output_type": "execute_result"
    }
   ],
   "source": [
    "def get_credit_history_age(col_name):\n",
    "    earliest_cr_line_date = loans[col_name].astype(\"datetime64[ns]\")\n",
    "    cr_hist_age_delta = loans[\"issue_d\"] - earliest_cr_line_date\n",
    "    MINUTES_PER_MONTH = int(365.25 / 12 * 24 * 60)\n",
    "    cr_hist_age_months = cr_hist_age_delta / np.timedelta64(MINUTES_PER_MONTH, \"m\")\n",
    "    return cr_hist_age_months.map(\n",
    "        lambda value: np.nan if pd.isna(value) else round(value)\n",
    "    )\n",
    "\n",
    "\n",
    "cr_hist_age_months = get_credit_history_age(\"earliest_cr_line\")\n",
    "cr_hist_age_months"
   ]
  },
  {
   "cell_type": "code",
   "execution_count": 30,
   "metadata": {},
   "outputs": [],
   "source": [
    "loans[\"earliest_cr_line\"] = cr_hist_age_months\n",
    "loans[\"sec_app_earliest_cr_line\"] = get_credit_history_age(\n",
    "    \"sec_app_earliest_cr_line\"\n",
    ").astype(\"Int64\")\n",
    "loans.rename(\n",
    "    columns={\n",
    "        \"earliest_cr_line\": \"cr_hist_age_mths\",\n",
    "        \"sec_app_earliest_cr_line\": \"sec_app_cr_hist_age_mths\",\n",
    "    },\n",
    "    inplace=True,\n",
    ")\n",
    "replace_list_value(\n",
    "    joint_new_metric_cols, \"sec_app_earliest_cr_line\", \"sec_app_cr_hist_age_mths\"\n",
    ")"
   ]
  },
  {
   "cell_type": "markdown",
   "execution_count": null,
   "metadata": {},
   "source": [
    "_Now_ a look at those categorical features."
   ]
  },
  {
   "cell_type": "code",
   "execution_count": 31,
   "metadata": {},
   "outputs": [
    {
     "name": "stdout",
     "output_type": "stream",
     "text": [
      "term\n",
      "36 months    831601\n",
      "60 months    278570\n",
      "Name: term, dtype: int64 \n",
      "\n",
      "emp_length\n",
      "1 year        76868\n",
      "10+ years    392883\n",
      "2 years      106124\n",
      "3 years       93784\n",
      "4 years       69031\n",
      "5 years       72421\n",
      "6 years       54240\n",
      "7 years       52229\n",
      "8 years       53826\n",
      "9 years       45210\n",
      "< 1 year      93555\n",
      "Name: emp_length, dtype: int64 \n",
      "\n",
      "home_ownership\n",
      "ANY            250\n",
      "MORTGAGE    559035\n",
      "NONE            39\n",
      "OTHER           40\n",
      "OWN         114577\n",
      "RENT        436230\n",
      "Name: home_ownership, dtype: int64 \n",
      "\n",
      "verification_status\n",
      "Not Verified       335350\n",
      "Source Verified    463153\n",
      "Verified           311668\n",
      "Name: verification_status, dtype: int64 \n",
      "\n",
      "purpose\n",
      "car                    10754\n",
      "credit_card           245942\n",
      "debt_consolidation    653222\n",
      "educational                1\n",
      "home_improvement       71089\n",
      "house                   5720\n",
      "major_purchase         22901\n",
      "medical                12302\n",
      "moving                  7464\n",
      "other                  60986\n",
      "renewable_energy         691\n",
      "small_business         11137\n",
      "vacation                7169\n",
      "wedding                  793\n",
      "Name: purpose, dtype: int64 \n",
      "\n",
      "verification_status_joint\n",
      "Not Verified       341073\n",
      "Source Verified    461941\n",
      "Verified           307157\n",
      "Name: verification_status_joint, dtype: int64 \n"
     ]
    }
   ],
   "source": [
    "categorical_cols = [\"term\", \"emp_length\", \"home_ownership\", \"verification_status\", \"purpose\", \"verification_status_joint\"]\n",
    "for i, col_name in enumerate(categorical_cols):\n",
    "    print(\n",
    "        loans.groupby(col_name)[col_name].count(),\n",
    "        \"\\n\" if i < len(categorical_cols) - 1 else \"\",\n",
    "    )"
   ]
  },
  {
   "cell_type": "markdown",
   "execution_count": null,
   "metadata": {},
   "source": [
    "First, in researching income verification, I learned that LendingClub only tries to [verify income](https://www.lendingclub.com/investing/investor-education/income-verification) on a subset of loan applications based on the content of the application, so this feature is a source of target leakage. I'll remove the two offending columns (and a couple more I don't need anymore)."
   ]
  },
  {
   "cell_type": "code",
   "execution_count": 32,
   "metadata": {},
   "outputs": [],
   "source": [
    "loans.drop(\n",
    "    columns=[\n",
    "        \"verification_status\",\n",
    "        \"verification_status_joint\",\n",
    "        \"issue_d\",\n",
    "        \"loan_status\",\n",
    "    ],\n",
    "    inplace=True,\n",
    ")"
   ]
  },
  {
   "cell_type": "markdown",
   "execution_count": null,
   "metadata": {},
   "source": [
    "Once I create my pipeline, I'll binary encode `term`, one-hot encode `home_ownership` and `purpose`, and since `emp_length` is an ordinal variable, I'll convert it to the integers 0–10."
   ]
  },
  {
   "cell_type": "code",
   "execution_count": 33,
   "metadata": {},
   "outputs": [],
   "source": [
    "onehot_cols += [\"home_ownership\", \"purpose\"]\n",
    "ordinal_cols = {\n",
    "    \"emp_length\": [\n",
    "        \"< 1 year\",\n",
    "        \"1 year\",\n",
    "        \"2 years\",\n",
    "        \"3 years\",\n",
    "        \"4 years\",\n",
    "        \"5 years\",\n",
    "        \"6 years\",\n",
    "        \"7 years\",\n",
    "        \"8 years\",\n",
    "        \"9 years\",\n",
    "        \"10+ years\",\n",
    "    ]\n",
    "}"
   ]
  },
  {
   "cell_type": "markdown",
   "execution_count": null,
   "metadata": {},
   "source": [
    "That should cover all the cleaning necessary for the first model's data. I'll save the columns that'll be used in the first model to a new DataFrame, and while I'm at it, I'll start formatting the DataFrames for the two additional models adding the two sets of new metrics."
   ]
  },
  {
   "cell_type": "code",
   "execution_count": 34,
   "metadata": {},
   "outputs": [
    {
     "name": "stdout",
     "output_type": "stream",
     "text": [
      "<class 'pandas.core.frame.DataFrame'>\n",
      "Int64Index: 1110171 entries, 0 to 2260697\n",
      "Data columns (total 80 columns):\n",
      " #   Column                              Non-Null Count    Dtype  \n",
      "---  ------                              --------------    -----  \n",
      " 0   loan_amnt                           1110171 non-null  float64\n",
      " 1   term                                1110171 non-null  object \n",
      " 2   emp_length                          1110171 non-null  object \n",
      " 3   home_ownership                      1110171 non-null  object \n",
      " 4   annual_inc                          1110171 non-null  float64\n",
      " 5   purpose                             1110171 non-null  object \n",
      " 6   dti                                 1110171 non-null  float64\n",
      " 7   delinq_2yrs                         1110171 non-null  float64\n",
      " 8   cr_hist_age_mths                    1110171 non-null  int64  \n",
      " 9   fico_range_low                      1110171 non-null  float64\n",
      " 10  fico_range_high                     1110171 non-null  float64\n",
      " 11  inq_last_6mths                      1110171 non-null  float64\n",
      " 12  inv_mths_since_last_delinq          1110171 non-null  float64\n",
      " 13  inv_mths_since_last_record          1110171 non-null  float64\n",
      " 14  open_acc                            1110171 non-null  float64\n",
      " 15  pub_rec                             1110171 non-null  float64\n",
      " 16  revol_bal                           1110171 non-null  float64\n",
      " 17  revol_util                          1110171 non-null  float64\n",
      " 18  total_acc                           1110171 non-null  float64\n",
      " 19  collections_12_mths_ex_med          1110171 non-null  float64\n",
      " 20  inv_mths_since_last_major_derog     1110171 non-null  float64\n",
      " 21  application_type                    1110171 non-null  object \n",
      " 22  annual_inc_joint                    1110171 non-null  float64\n",
      " 23  dti_joint                           1110171 non-null  float64\n",
      " 24  acc_now_delinq                      1110171 non-null  float64\n",
      " 25  tot_coll_amt                        1110171 non-null  float64\n",
      " 26  tot_cur_bal                         1110171 non-null  float64\n",
      " 27  open_acc_6m                         459541 non-null   float64\n",
      " 28  open_act_il                         459541 non-null   float64\n",
      " 29  open_il_12m                         459541 non-null   float64\n",
      " 30  open_il_24m                         459541 non-null   float64\n",
      " 31  inv_mths_since_rcnt_il              1110171 non-null  float64\n",
      " 32  total_bal_il                        459541 non-null   float64\n",
      " 33  il_util                             408722 non-null   float64\n",
      " 34  open_rv_12m                         459541 non-null   float64\n",
      " 35  open_rv_24m                         459541 non-null   float64\n",
      " 36  max_bal_bc                          459541 non-null   float64\n",
      " 37  all_util                            459541 non-null   float64\n",
      " 38  total_rev_hi_lim                    1110171 non-null  float64\n",
      " 39  inq_fi                              459541 non-null   float64\n",
      " 40  total_cu_tl                         459541 non-null   float64\n",
      " 41  inq_last_12m                        459541 non-null   float64\n",
      " 42  acc_open_past_24mths                1110171 non-null  float64\n",
      " 43  avg_cur_bal                         1110171 non-null  float64\n",
      " 44  bc_open_to_buy                      1110171 non-null  float64\n",
      " 45  bc_util                             1110171 non-null  float64\n",
      " 46  chargeoff_within_12_mths            1110171 non-null  float64\n",
      " 47  delinq_amnt                         1110171 non-null  float64\n",
      " 48  mo_sin_old_il_acct                  1110171 non-null  float64\n",
      " 49  mo_sin_old_rev_tl_op                1110171 non-null  float64\n",
      " 50  inv_mo_sin_rcnt_rev_tl_op           1110171 non-null  float64\n",
      " 51  inv_mo_sin_rcnt_tl                  1110171 non-null  float64\n",
      " 52  mort_acc                            1110171 non-null  float64\n",
      " 53  inv_mths_since_recent_bc            1110171 non-null  float64\n",
      " 54  inv_mths_since_recent_bc_dlq        1110171 non-null  float64\n",
      " 55  inv_mths_since_recent_inq           1110171 non-null  float64\n",
      " 56  inv_mths_since_recent_revol_delinq  1110171 non-null  float64\n",
      " 57  num_accts_ever_120_pd               1110171 non-null  float64\n",
      " 58  num_actv_bc_tl                      1110171 non-null  float64\n",
      " 59  num_actv_rev_tl                     1110171 non-null  float64\n",
      " 60  num_bc_sats                         1110171 non-null  float64\n",
      " 61  num_bc_tl                           1110171 non-null  float64\n",
      " 62  num_il_tl                           1110171 non-null  float64\n",
      " 63  num_op_rev_tl                       1110171 non-null  float64\n",
      " 64  num_rev_accts                       1110171 non-null  float64\n",
      " 65  num_rev_tl_bal_gt_0                 1110171 non-null  float64\n",
      " 66  num_sats                            1110171 non-null  float64\n",
      " 67  num_tl_120dpd_2m                    1110171 non-null  float64\n",
      " 68  num_tl_30dpd                        1110171 non-null  float64\n",
      " 69  num_tl_90g_dpd_24m                  1110171 non-null  float64\n",
      " 70  num_tl_op_past_12m                  1110171 non-null  float64\n",
      " 71  pct_tl_nvr_dlq                      1110171 non-null  float64\n",
      " 72  percent_bc_gt_75                    1110171 non-null  float64\n",
      " 73  pub_rec_bankruptcies                1110171 non-null  float64\n",
      " 74  tax_liens                           1110171 non-null  float64\n",
      " 75  tot_hi_cred_lim                     1110171 non-null  float64\n",
      " 76  total_bal_ex_mort                   1110171 non-null  float64\n",
      " 77  total_bc_limit                      1110171 non-null  float64\n",
      " 78  total_il_high_credit_limit          1110171 non-null  float64\n",
      " 79  fraction_recovered                  1110171 non-null  float64\n",
      "dtypes: float64(74), int64(1), object(5)\n",
      "memory usage: 686.1+ MB\n"
     ]
    }
   ],
   "source": [
    "loans_1 = loans.drop(columns=new_metric_cols + joint_new_metric_cols)\n",
    "loans_2 = loans.drop(columns=joint_new_metric_cols)\n",
    "loans_2.info(verbose=True, null_counts=True)"
   ]
  },
  {
   "cell_type": "markdown",
   "execution_count": null,
   "metadata": {},
   "source": [
    "Before I drop a bunch of rows with nulls from `loans_2`, I'm concerned about `il_util`, as it's missing values in about 50,000 more rows than the rest of the new metric columns. Why would that be?"
   ]
  },
  {
   "cell_type": "code",
   "execution_count": 35,
   "metadata": {},
   "outputs": [
    {
     "data": {
      "text/plain": [
       "count    408722.000000\n",
       "mean         71.832894\n",
       "std          22.311439\n",
       "min           0.000000\n",
       "25%          59.000000\n",
       "50%          75.000000\n",
       "75%          87.000000\n",
       "max         464.000000\n",
       "Name: il_util, dtype: float64"
      ]
     },
     "execution_count": 35,
     "metadata": {},
     "output_type": "execute_result"
    }
   ],
   "source": [
    "loans_2[\"il_util\"][loans_2[\"il_util\"].notna()].describe()"
   ]
  },
  {
   "cell_type": "markdown",
   "execution_count": null,
   "metadata": {},
   "source": [
    "Peeking back up to the data dictionary, `il_util` is the \"ratio of total current balance to high credit/credit limit on all install acct\". The relevant balance (`total_bal_il`) and credit limit (`total_il_high_credit_limit`) metrics appear to already be in the data, so perhaps this utilization metric doesn't contain any new information. I'll compare `il_util` (where it's present) to the ratio of the other two variables."
   ]
  },
  {
   "cell_type": "code",
   "execution_count": 36,
   "metadata": {},
   "outputs": [
    {
     "data": {
      "text/html": [
       "<div>\n",
       "<style scoped>\n",
       "    .dataframe tbody tr th:only-of-type {\n",
       "        vertical-align: middle;\n",
       "    }\n",
       "\n",
       "    .dataframe tbody tr th {\n",
       "        vertical-align: top;\n",
       "    }\n",
       "\n",
       "    .dataframe thead th {\n",
       "        text-align: right;\n",
       "    }\n",
       "</style>\n",
       "<table border=\"1\" class=\"dataframe\">\n",
       "  <thead>\n",
       "    <tr style=\"text-align: right;\">\n",
       "      <th></th>\n",
       "      <th>il_util</th>\n",
       "      <th>il_util_compute</th>\n",
       "    </tr>\n",
       "  </thead>\n",
       "  <tbody>\n",
       "    <tr>\n",
       "      <th>0</th>\n",
       "      <td>36.0</td>\n",
       "      <td>36.0</td>\n",
       "    </tr>\n",
       "    <tr>\n",
       "      <th>1</th>\n",
       "      <td>73.0</td>\n",
       "      <td>73.0</td>\n",
       "    </tr>\n",
       "    <tr>\n",
       "      <th>2</th>\n",
       "      <td>73.0</td>\n",
       "      <td>73.0</td>\n",
       "    </tr>\n",
       "    <tr>\n",
       "      <th>4</th>\n",
       "      <td>84.0</td>\n",
       "      <td>84.0</td>\n",
       "    </tr>\n",
       "    <tr>\n",
       "      <th>5</th>\n",
       "      <td>99.0</td>\n",
       "      <td>99.0</td>\n",
       "    </tr>\n",
       "    <tr>\n",
       "      <th>...</th>\n",
       "      <td>...</td>\n",
       "      <td>...</td>\n",
       "    </tr>\n",
       "    <tr>\n",
       "      <th>2260688</th>\n",
       "      <td>52.0</td>\n",
       "      <td>39.0</td>\n",
       "    </tr>\n",
       "    <tr>\n",
       "      <th>2260690</th>\n",
       "      <td>50.0</td>\n",
       "      <td>74.0</td>\n",
       "    </tr>\n",
       "    <tr>\n",
       "      <th>2260691</th>\n",
       "      <td>47.0</td>\n",
       "      <td>47.0</td>\n",
       "    </tr>\n",
       "    <tr>\n",
       "      <th>2260692</th>\n",
       "      <td>79.0</td>\n",
       "      <td>79.0</td>\n",
       "    </tr>\n",
       "    <tr>\n",
       "      <th>2260697</th>\n",
       "      <td>78.0</td>\n",
       "      <td>76.0</td>\n",
       "    </tr>\n",
       "  </tbody>\n",
       "</table>\n",
       "<p>408722 rows × 2 columns</p>\n",
       "</div>"
      ],
      "text/plain": [
       "         il_util  il_util_compute\n",
       "0           36.0             36.0\n",
       "1           73.0             73.0\n",
       "2           73.0             73.0\n",
       "4           84.0             84.0\n",
       "5           99.0             99.0\n",
       "...          ...              ...\n",
       "2260688     52.0             39.0\n",
       "2260690     50.0             74.0\n",
       "2260691     47.0             47.0\n",
       "2260692     79.0             79.0\n",
       "2260697     78.0             76.0\n",
       "\n",
       "[408722 rows x 2 columns]"
      ]
     },
     "execution_count": 36,
     "metadata": {},
     "output_type": "execute_result"
    }
   ],
   "source": [
    "query_df = loans[[\"il_util\", \"total_bal_il\", \"total_il_high_credit_limit\"]].dropna(\n",
    "    axis=\"index\", subset=[\"il_util\"]\n",
    ")\n",
    "query_df[\"il_util_compute\"] = (\n",
    "    query_df[\"total_bal_il\"] / query_df[\"total_il_high_credit_limit\"]\n",
    ").map(lambda x: float(round(x * 100)))\n",
    "query_df[[\"il_util\", \"il_util_compute\"]]"
   ]
  },
  {
   "cell_type": "code",
   "execution_count": 37,
   "metadata": {},
   "outputs": [
    {
     "data": {
      "text/plain": [
       "count     408722\n",
       "unique         2\n",
       "top         True\n",
       "freq      307589\n",
       "dtype: object"
      ]
     },
     "execution_count": 37,
     "metadata": {},
     "output_type": "execute_result"
    }
   ],
   "source": [
    "(query_df[\"il_util\"] == query_df[\"il_util_compute\"]).describe()"
   ]
  },
  {
   "cell_type": "code",
   "execution_count": 38,
   "metadata": {},
   "outputs": [
    {
     "data": {
      "text/plain": [
       "count    101133.000000\n",
       "mean         14.638684\n",
       "std          16.409913\n",
       "min           1.000000\n",
       "25%           3.000000\n",
       "50%          10.000000\n",
       "75%          21.000000\n",
       "max        1108.000000\n",
       "Name: compute_diff, dtype: float64"
      ]
     },
     "execution_count": 38,
     "metadata": {},
     "output_type": "execute_result"
    }
   ],
   "source": [
    "query_df[\"compute_diff\"] = abs(query_df[\"il_util\"] - query_df[\"il_util_compute\"])\n",
    "query_df[\"compute_diff\"][query_df[\"compute_diff\"] != 0].describe()"
   ]
  },
  {
   "cell_type": "markdown",
   "execution_count": null,
   "metadata": {},
   "source": [
    "That's weird. `il_util` is equal to the computed ratio three-quarters of the time, but when it's off, the median difference is 10 points off. Perhaps there's new information there sometimes after all. Maybe whatever credit bureau is reporting the utilization rate uses a different formula than just a simple ratio? Again, something I could ask if I were performing this analysis for a client, but that's not the case. I'll assume that this variable is still valuable, and where `il_util` is null I'll impute the value to make it equal to the ratio of `total_bal_il` to `total_il_high_credit_limit` (or 0 if the limit is 0). And I'll add one more boolean field to mark the imputed entries.\n",
    "\n",
    "Also, that 1,108 is a doozy of an outlier, but I think I'll just leave it be, as it appears that [outliers aren't too big a deal](https://medium.com/analytics-vidhya/effect-of-outliers-on-neural-networks-performance-ca1d9185dce9) if the neural network architecture is sufficiently deep."
   ]
  },
  {
   "cell_type": "code",
   "execution_count": 39,
   "metadata": {},
   "outputs": [
    {
     "name": "stdout",
     "output_type": "stream",
     "text": [
      "<class 'pandas.core.frame.DataFrame'>\n",
      "Int64Index: 1110171 entries, 0 to 2260697\n",
      "Data columns (total 81 columns):\n",
      " #   Column                              Non-Null Count    Dtype  \n",
      "---  ------                              --------------    -----  \n",
      " 0   loan_amnt                           1110171 non-null  float64\n",
      " 1   term                                1110171 non-null  object \n",
      " 2   emp_length                          1110171 non-null  object \n",
      " 3   home_ownership                      1110171 non-null  object \n",
      " 4   annual_inc                          1110171 non-null  float64\n",
      " 5   purpose                             1110171 non-null  object \n",
      " 6   dti                                 1110171 non-null  float64\n",
      " 7   delinq_2yrs                         1110171 non-null  float64\n",
      " 8   cr_hist_age_mths                    1110171 non-null  int64  \n",
      " 9   fico_range_low                      1110171 non-null  float64\n",
      " 10  fico_range_high                     1110171 non-null  float64\n",
      " 11  inq_last_6mths                      1110171 non-null  float64\n",
      " 12  inv_mths_since_last_delinq          1110171 non-null  float64\n",
      " 13  inv_mths_since_last_record          1110171 non-null  float64\n",
      " 14  open_acc                            1110171 non-null  float64\n",
      " 15  pub_rec                             1110171 non-null  float64\n",
      " 16  revol_bal                           1110171 non-null  float64\n",
      " 17  revol_util                          1110171 non-null  float64\n",
      " 18  total_acc                           1110171 non-null  float64\n",
      " 19  collections_12_mths_ex_med          1110171 non-null  float64\n",
      " 20  inv_mths_since_last_major_derog     1110171 non-null  float64\n",
      " 21  application_type                    1110171 non-null  object \n",
      " 22  annual_inc_joint                    1110171 non-null  float64\n",
      " 23  dti_joint                           1110171 non-null  float64\n",
      " 24  acc_now_delinq                      1110171 non-null  float64\n",
      " 25  tot_coll_amt                        1110171 non-null  float64\n",
      " 26  tot_cur_bal                         1110171 non-null  float64\n",
      " 27  open_acc_6m                         459541 non-null   float64\n",
      " 28  open_act_il                         459541 non-null   float64\n",
      " 29  open_il_12m                         459541 non-null   float64\n",
      " 30  open_il_24m                         459541 non-null   float64\n",
      " 31  inv_mths_since_rcnt_il              1110171 non-null  float64\n",
      " 32  total_bal_il                        459541 non-null   float64\n",
      " 33  il_util                             459541 non-null   float64\n",
      " 34  open_rv_12m                         459541 non-null   float64\n",
      " 35  open_rv_24m                         459541 non-null   float64\n",
      " 36  max_bal_bc                          459541 non-null   float64\n",
      " 37  all_util                            459541 non-null   float64\n",
      " 38  total_rev_hi_lim                    1110171 non-null  float64\n",
      " 39  inq_fi                              459541 non-null   float64\n",
      " 40  total_cu_tl                         459541 non-null   float64\n",
      " 41  inq_last_12m                        459541 non-null   float64\n",
      " 42  acc_open_past_24mths                1110171 non-null  float64\n",
      " 43  avg_cur_bal                         1110171 non-null  float64\n",
      " 44  bc_open_to_buy                      1110171 non-null  float64\n",
      " 45  bc_util                             1110171 non-null  float64\n",
      " 46  chargeoff_within_12_mths            1110171 non-null  float64\n",
      " 47  delinq_amnt                         1110171 non-null  float64\n",
      " 48  mo_sin_old_il_acct                  1110171 non-null  float64\n",
      " 49  mo_sin_old_rev_tl_op                1110171 non-null  float64\n",
      " 50  inv_mo_sin_rcnt_rev_tl_op           1110171 non-null  float64\n",
      " 51  inv_mo_sin_rcnt_tl                  1110171 non-null  float64\n",
      " 52  mort_acc                            1110171 non-null  float64\n",
      " 53  inv_mths_since_recent_bc            1110171 non-null  float64\n",
      " 54  inv_mths_since_recent_bc_dlq        1110171 non-null  float64\n",
      " 55  inv_mths_since_recent_inq           1110171 non-null  float64\n",
      " 56  inv_mths_since_recent_revol_delinq  1110171 non-null  float64\n",
      " 57  num_accts_ever_120_pd               1110171 non-null  float64\n",
      " 58  num_actv_bc_tl                      1110171 non-null  float64\n",
      " 59  num_actv_rev_tl                     1110171 non-null  float64\n",
      " 60  num_bc_sats                         1110171 non-null  float64\n",
      " 61  num_bc_tl                           1110171 non-null  float64\n",
      " 62  num_il_tl                           1110171 non-null  float64\n",
      " 63  num_op_rev_tl                       1110171 non-null  float64\n",
      " 64  num_rev_accts                       1110171 non-null  float64\n",
      " 65  num_rev_tl_bal_gt_0                 1110171 non-null  float64\n",
      " 66  num_sats                            1110171 non-null  float64\n",
      " 67  num_tl_120dpd_2m                    1110171 non-null  float64\n",
      " 68  num_tl_30dpd                        1110171 non-null  float64\n",
      " 69  num_tl_90g_dpd_24m                  1110171 non-null  float64\n",
      " 70  num_tl_op_past_12m                  1110171 non-null  float64\n",
      " 71  pct_tl_nvr_dlq                      1110171 non-null  float64\n",
      " 72  percent_bc_gt_75                    1110171 non-null  float64\n",
      " 73  pub_rec_bankruptcies                1110171 non-null  float64\n",
      " 74  tax_liens                           1110171 non-null  float64\n",
      " 75  tot_hi_cred_lim                     1110171 non-null  float64\n",
      " 76  total_bal_ex_mort                   1110171 non-null  float64\n",
      " 77  total_bc_limit                      1110171 non-null  float64\n",
      " 78  total_il_high_credit_limit          1110171 non-null  float64\n",
      " 79  fraction_recovered                  1110171 non-null  float64\n",
      " 80  il_util_imputed                     1110171 non-null  bool   \n",
      "dtypes: bool(1), float64(74), int64(1), object(5)\n",
      "memory usage: 687.1+ MB\n"
     ]
    }
   ],
   "source": [
    "loans[\"il_util_imputed\"] = [\n",
    "    True if pd.isna(util) & pd.notna(bal) & pd.notna(limit) else False\n",
    "    for util, bal, limit in zip(\n",
    "        loans[\"il_util\"], loans[\"total_bal_il\"], loans[\"total_il_high_credit_limit\"]\n",
    "    )\n",
    "]\n",
    "new_metric_onehot_cols = [\"il_util_imputed\"]\n",
    "loans[\"il_util\"] = [\n",
    "    0.0\n",
    "    if pd.isna(util) & pd.notna(bal) & (limit == 0)\n",
    "    else float(round(bal / limit * 100))\n",
    "    if pd.isna(util) & pd.notna(bal) & pd.notna(limit)\n",
    "    else util\n",
    "    for util, bal, limit in zip(\n",
    "        loans[\"il_util\"], loans[\"total_bal_il\"], loans[\"total_il_high_credit_limit\"]\n",
    "    )\n",
    "]\n",
    "\n",
    "loans_2 = loans.drop(columns=joint_new_metric_cols)\n",
    "loans_2.info(verbose=True, null_counts=True)"
   ]
  },
  {
   "cell_type": "markdown",
   "execution_count": null,
   "metadata": {},
   "source": [
    "Good. Ready to drop rows with nulls in `loans_2` and move on to the DataFrame for the model that adds the new metrics for joint applications."
   ]
  },
  {
   "cell_type": "code",
   "execution_count": 40,
   "metadata": {},
   "outputs": [
    {
     "name": "stdout",
     "output_type": "stream",
     "text": [
      "<class 'pandas.core.frame.DataFrame'>\n",
      "Int64Index: 14453 entries, 421222 to 2157147\n",
      "Data columns (total 94 columns):\n",
      " #   Column                                   Non-Null Count  Dtype  \n",
      "---  ------                                   --------------  -----  \n",
      " 0   loan_amnt                                14453 non-null  float64\n",
      " 1   term                                     14453 non-null  object \n",
      " 2   emp_length                               14453 non-null  object \n",
      " 3   home_ownership                           14453 non-null  object \n",
      " 4   annual_inc                               14453 non-null  float64\n",
      " 5   purpose                                  14453 non-null  object \n",
      " 6   dti                                      14453 non-null  float64\n",
      " 7   delinq_2yrs                              14453 non-null  float64\n",
      " 8   cr_hist_age_mths                         14453 non-null  int64  \n",
      " 9   fico_range_low                           14453 non-null  float64\n",
      " 10  fico_range_high                          14453 non-null  float64\n",
      " 11  inq_last_6mths                           14453 non-null  float64\n",
      " 12  inv_mths_since_last_delinq               14453 non-null  float64\n",
      " 13  inv_mths_since_last_record               14453 non-null  float64\n",
      " 14  open_acc                                 14453 non-null  float64\n",
      " 15  pub_rec                                  14453 non-null  float64\n",
      " 16  revol_bal                                14453 non-null  float64\n",
      " 17  revol_util                               14453 non-null  float64\n",
      " 18  total_acc                                14453 non-null  float64\n",
      " 19  collections_12_mths_ex_med               14453 non-null  float64\n",
      " 20  inv_mths_since_last_major_derog          14453 non-null  float64\n",
      " 21  application_type                         14453 non-null  object \n",
      " 22  annual_inc_joint                         14453 non-null  float64\n",
      " 23  dti_joint                                14453 non-null  float64\n",
      " 24  acc_now_delinq                           14453 non-null  float64\n",
      " 25  tot_coll_amt                             14453 non-null  float64\n",
      " 26  tot_cur_bal                              14453 non-null  float64\n",
      " 27  open_acc_6m                              14453 non-null  float64\n",
      " 28  open_act_il                              14453 non-null  float64\n",
      " 29  open_il_12m                              14453 non-null  float64\n",
      " 30  open_il_24m                              14453 non-null  float64\n",
      " 31  inv_mths_since_rcnt_il                   14453 non-null  float64\n",
      " 32  total_bal_il                             14453 non-null  float64\n",
      " 33  il_util                                  14453 non-null  float64\n",
      " 34  open_rv_12m                              14453 non-null  float64\n",
      " 35  open_rv_24m                              14453 non-null  float64\n",
      " 36  max_bal_bc                               14453 non-null  float64\n",
      " 37  all_util                                 14453 non-null  float64\n",
      " 38  total_rev_hi_lim                         14453 non-null  float64\n",
      " 39  inq_fi                                   14453 non-null  float64\n",
      " 40  total_cu_tl                              14453 non-null  float64\n",
      " 41  inq_last_12m                             14453 non-null  float64\n",
      " 42  acc_open_past_24mths                     14453 non-null  float64\n",
      " 43  avg_cur_bal                              14453 non-null  float64\n",
      " 44  bc_open_to_buy                           14453 non-null  float64\n",
      " 45  bc_util                                  14453 non-null  float64\n",
      " 46  chargeoff_within_12_mths                 14453 non-null  float64\n",
      " 47  delinq_amnt                              14453 non-null  float64\n",
      " 48  mo_sin_old_il_acct                       14453 non-null  float64\n",
      " 49  mo_sin_old_rev_tl_op                     14453 non-null  float64\n",
      " 50  inv_mo_sin_rcnt_rev_tl_op                14453 non-null  float64\n",
      " 51  inv_mo_sin_rcnt_tl                       14453 non-null  float64\n",
      " 52  mort_acc                                 14453 non-null  float64\n",
      " 53  inv_mths_since_recent_bc                 14453 non-null  float64\n",
      " 54  inv_mths_since_recent_bc_dlq             14453 non-null  float64\n",
      " 55  inv_mths_since_recent_inq                14453 non-null  float64\n",
      " 56  inv_mths_since_recent_revol_delinq       14453 non-null  float64\n",
      " 57  num_accts_ever_120_pd                    14453 non-null  float64\n",
      " 58  num_actv_bc_tl                           14453 non-null  float64\n",
      " 59  num_actv_rev_tl                          14453 non-null  float64\n",
      " 60  num_bc_sats                              14453 non-null  float64\n",
      " 61  num_bc_tl                                14453 non-null  float64\n",
      " 62  num_il_tl                                14453 non-null  float64\n",
      " 63  num_op_rev_tl                            14453 non-null  float64\n",
      " 64  num_rev_accts                            14453 non-null  float64\n",
      " 65  num_rev_tl_bal_gt_0                      14453 non-null  float64\n",
      " 66  num_sats                                 14453 non-null  float64\n",
      " 67  num_tl_120dpd_2m                         14453 non-null  float64\n",
      " 68  num_tl_30dpd                             14453 non-null  float64\n",
      " 69  num_tl_90g_dpd_24m                       14453 non-null  float64\n",
      " 70  num_tl_op_past_12m                       14453 non-null  float64\n",
      " 71  pct_tl_nvr_dlq                           14453 non-null  float64\n",
      " 72  percent_bc_gt_75                         14453 non-null  float64\n",
      " 73  pub_rec_bankruptcies                     14453 non-null  float64\n",
      " 74  tax_liens                                14453 non-null  float64\n",
      " 75  tot_hi_cred_lim                          14453 non-null  float64\n",
      " 76  total_bal_ex_mort                        14453 non-null  float64\n",
      " 77  total_bc_limit                           14453 non-null  float64\n",
      " 78  total_il_high_credit_limit               14453 non-null  float64\n",
      " 79  revol_bal_joint                          14453 non-null  float64\n",
      " 80  sec_app_fico_range_low                   14453 non-null  float64\n",
      " 81  sec_app_fico_range_high                  14453 non-null  float64\n",
      " 82  sec_app_cr_hist_age_mths                 14453 non-null  Int64  \n",
      " 83  sec_app_inq_last_6mths                   14453 non-null  float64\n",
      " 84  sec_app_mort_acc                         14453 non-null  float64\n",
      " 85  sec_app_open_acc                         14453 non-null  float64\n",
      " 86  sec_app_revol_util                       14453 non-null  float64\n",
      " 87  sec_app_open_act_il                      14453 non-null  float64\n",
      " 88  sec_app_num_rev_accts                    14453 non-null  float64\n",
      " 89  sec_app_chargeoff_within_12_mths         14453 non-null  float64\n",
      " 90  sec_app_collections_12_mths_ex_med       14453 non-null  float64\n",
      " 91  sec_app_inv_mths_since_last_major_derog  14453 non-null  float64\n",
      " 92  fraction_recovered                       14453 non-null  float64\n",
      " 93  il_util_imputed                          14453 non-null  bool   \n",
      "dtypes: Int64(1), bool(1), float64(86), int64(1), object(5)\n",
      "memory usage: 10.4+ MB\n"
     ]
    }
   ],
   "source": [
    "loans_2.dropna(axis=\"index\", inplace=True)\n",
    "\n",
    "loans_3 = loans.dropna(axis=\"index\")\n",
    "loans_3.info(verbose=True, null_counts=True)"
   ]
  },
  {
   "cell_type": "markdown",
   "execution_count": null,
   "metadata": {},
   "source": [
    "Phew, the data's all clean now! Time for the fun part.\n",
    "\n",
    "## Building the neural networks\n",
    "\n",
    "After a good deal of trial and error, I found that a network architecture with one hidden layer with a number of nodes around two-thirds the number of input nodes was as good as I could find. I used ReLU activation in that hidden layer, and adam optimization and a loss metric of mean absolute error in the model as a whole.\n",
    "\n",
    "The dataset being so large, I had great results with a batch size of 128 for my first two models, but I had to decrease that to 32 for the third."
   ]
  },
  {
   "cell_type": "code",
   "execution_count": 41,
   "metadata": {},
   "outputs": [
    {
     "name": "stdout",
     "output_type": "stream",
     "text": [
      "Model 1:\n",
      "Epoch 1/100\n",
      "6939/6939 [==============================] - 14s 2ms/step - loss: 0.1341 - val_loss: 0.1229\n",
      "Epoch 2/100\n",
      "6939/6939 [==============================] - 14s 2ms/step - loss: 0.1205 - val_loss: 0.1185\n",
      "Epoch 3/100\n",
      "6939/6939 [==============================] - 14s 2ms/step - loss: 0.1189 - val_loss: 0.1185\n",
      "Epoch 4/100\n",
      "6939/6939 [==============================] - 14s 2ms/step - loss: 0.1183 - val_loss: 0.1187\n",
      "Epoch 5/100\n",
      "6939/6939 [==============================] - 14s 2ms/step - loss: 0.1179 - val_loss: 0.1174\n",
      "Epoch 6/100\n",
      "6939/6939 [==============================] - 14s 2ms/step - loss: 0.1175 - val_loss: 0.1175\n",
      "Epoch 7/100\n",
      "6939/6939 [==============================] - 14s 2ms/step - loss: 0.1172 - val_loss: 0.1178\n",
      "Epoch 8/100\n",
      "6939/6939 [==============================] - 14s 2ms/step - loss: 0.1170 - val_loss: 0.1171\n",
      "Epoch 9/100\n",
      "6939/6939 [==============================] - 14s 2ms/step - loss: 0.1169 - val_loss: 0.1170\n",
      "Epoch 10/100\n",
      "6939/6939 [==============================] - 14s 2ms/step - loss: 0.1168 - val_loss: 0.1166\n",
      "Epoch 11/100\n",
      "6939/6939 [==============================] - 18s 3ms/step - loss: 0.1167 - val_loss: 0.1164\n",
      "Epoch 12/100\n",
      "6939/6939 [==============================] - 18s 3ms/step - loss: 0.1166 - val_loss: 0.1164\n",
      "Epoch 13/100\n",
      "6939/6939 [==============================] - 14s 2ms/step - loss: 0.1165 - val_loss: 0.1166\n",
      "Epoch 14/100\n",
      "6939/6939 [==============================] - 14s 2ms/step - loss: 0.1164 - val_loss: 0.1165\n",
      "Epoch 15/100\n",
      "6939/6939 [==============================] - 14s 2ms/step - loss: 0.1164 - val_loss: 0.1166\n",
      "Epoch 16/100\n",
      "6939/6939 [==============================] - 14s 2ms/step - loss: 0.1163 - val_loss: 0.1166\n",
      "Epoch 17/100\n",
      "6939/6939 [==============================] - 15s 2ms/step - loss: 0.1162 - val_loss: 0.1166\n",
      "Epoch 18/100\n",
      "6939/6939 [==============================] - 14s 2ms/step - loss: 0.1162 - val_loss: 0.1165\n",
      "Epoch 19/100\n",
      "6939/6939 [==============================] - 14s 2ms/step - loss: 0.1161 - val_loss: 0.1165\n",
      "Epoch 20/100\n",
      "6939/6939 [==============================] - 14s 2ms/step - loss: 0.1161 - val_loss: 0.1162\n",
      "Epoch 21/100\n",
      "6939/6939 [==============================] - 13s 2ms/step - loss: 0.1160 - val_loss: 0.1163\n",
      "Epoch 22/100\n",
      "6939/6939 [==============================] - 14s 2ms/step - loss: 0.1160 - val_loss: 0.1162\n",
      "Epoch 23/100\n",
      "6939/6939 [==============================] - 13s 2ms/step - loss: 0.1159 - val_loss: 0.1162\n",
      "Epoch 26/100\n",
      "6939/6939 [==============================] - 14s 2ms/step - loss: 0.1159 - val_loss: 0.1163\n",
      "Epoch 27/100\n",
      "6939/6939 [==============================] - 14s 2ms/step - loss: 0.1159 - val_loss: 0.1160\n",
      "Epoch 28/100\n",
      "6939/6939 [==============================] - 14s 2ms/step - loss: 0.1159 - val_loss: 0.1161\n",
      "Epoch 29/100\n",
      "6939/6939 [==============================] - 13s 2ms/step - loss: 0.1158 - val_loss: 0.1161\n",
      "Epoch 30/100\n",
      "6939/6939 [==============================] - 14s 2ms/step - loss: 0.1158 - val_loss: 0.1162\n",
      "Epoch 31/100\n",
      "6939/6939 [==============================] - 14s 2ms/step - loss: 0.1158 - val_loss: 0.1160\n",
      "Epoch 32/100\n",
      "6939/6939 [==============================] - 14s 2ms/step - loss: 0.1158 - val_loss: 0.1160\n",
      "Epoch 33/100\n",
      "6939/6939 [==============================] - 15s 2ms/step - loss: 0.1158 - val_loss: 0.1163\n",
      "Epoch 34/100\n",
      "6939/6939 [==============================] - 14s 2ms/step - loss: 0.1158 - val_loss: 0.1160\n",
      "Epoch 35/100\n",
      "6939/6939 [==============================] - 14s 2ms/step - loss: 0.1158 - val_loss: 0.1161\n",
      "Epoch 36/100\n",
      "6939/6939 [==============================] - 14s 2ms/step - loss: 0.1158 - val_loss: 0.1160\n",
      "Epoch 37/100\n",
      "6939/6939 [==============================] - 13s 2ms/step - loss: 0.1157 - val_loss: 0.1160\n",
      "Epoch 38/100\n",
      "6939/6939 [==============================] - 13s 2ms/step - loss: 0.1157 - val_loss: 0.1160\n",
      "Epoch 39/100\n",
      "6939/6939 [==============================] - 14s 2ms/step - loss: 0.1157 - val_loss: 0.1159\n",
      "Epoch 40/100\n",
      "6939/6939 [==============================] - 14s 2ms/step - loss: 0.1157 - val_loss: 0.1159\n",
      "Epoch 41/100\n",
      "6939/6939 [==============================] - 14s 2ms/step - loss: 0.1157 - val_loss: 0.1161\n",
      "Epoch 42/100\n",
      "6939/6939 [==============================] - 14s 2ms/step - loss: 0.1157 - val_loss: 0.1160\n",
      "Epoch 43/100\n",
      "6939/6939 [==============================] - 14s 2ms/step - loss: 0.1157 - val_loss: 0.1160\n",
      "Epoch 44/100\n",
      "6939/6939 [==============================] - 14s 2ms/step - loss: 0.1157 - val_loss: 0.1161\n",
      "Epoch 45/100\n",
      "6939/6939 [==============================] - 14s 2ms/step - loss: 0.1156 - val_loss: 0.1160\n",
      "Epoch 46/100\n",
      "6939/6939 [==============================] - 15s 2ms/step - loss: 0.1157 - val_loss: 0.1160\n",
      "Epoch 47/100\n",
      "6939/6939 [==============================] - 14s 2ms/step - loss: 0.1157 - val_loss: 0.1161\n",
      "Epoch 48/100\n",
      "6939/6939 [==============================] - 15s 2ms/step - loss: 0.1157 - val_loss: 0.1161\n",
      "Epoch 49/100\n",
      "6939/6939 [==============================] - 14s 2ms/step - loss: 0.1157 - val_loss: 0.1161\n",
      "Epoch 50/100\n",
      "6939/6939 [==============================] - 12s 2ms/step - loss: 0.1157 - val_loss: 0.1162\n",
      "\n",
      "Model 2:\n",
      "Epoch 1/100\n",
      "2873/2873 [==============================] - 5s 2ms/step - loss: 0.1848 - val_loss: 0.1528\n",
      "Epoch 2/100\n",
      "2873/2873 [==============================] - 5s 2ms/step - loss: 0.1504 - val_loss: 0.1472\n",
      "Epoch 3/100\n",
      "2873/2873 [==============================] - 5s 2ms/step - loss: 0.1464 - val_loss: 0.1439\n",
      "Epoch 4/100\n",
      "2873/2873 [==============================] - 5s 2ms/step - loss: 0.1445 - val_loss: 0.1449\n",
      "Epoch 5/100\n",
      "2873/2873 [==============================] - 5s 2ms/step - loss: 0.1437 - val_loss: 0.1426\n",
      "Epoch 6/100\n",
      "2873/2873 [==============================] - 5s 2ms/step - loss: 0.1430 - val_loss: 0.1417\n",
      "Epoch 7/100\n",
      "2873/2873 [==============================] - 5s 2ms/step - loss: 0.1428 - val_loss: 0.1439\n",
      "Epoch 8/100\n",
      "2873/2873 [==============================] - 5s 2ms/step - loss: 0.1424 - val_loss: 0.1418\n",
      "Epoch 9/100\n",
      "2873/2873 [==============================] - 5s 2ms/step - loss: 0.1421 - val_loss: 0.1410\n",
      "Epoch 10/100\n",
      "2873/2873 [==============================] - 5s 2ms/step - loss: 0.1418 - val_loss: 0.1408\n",
      "Epoch 11/100\n",
      "2873/2873 [==============================] - 9s 3ms/step - loss: 0.1417 - val_loss: 0.1409\n",
      "Epoch 12/100\n",
      "2873/2873 [==============================] - 6s 2ms/step - loss: 0.1415 - val_loss: 0.1414\n",
      "Epoch 13/100\n",
      "2873/2873 [==============================] - 6s 2ms/step - loss: 0.1414 - val_loss: 0.1408\n",
      "Epoch 14/100\n",
      "2873/2873 [==============================] - 6s 2ms/step - loss: 0.1412 - val_loss: 0.1411\n",
      "Epoch 15/100\n",
      "2873/2873 [==============================] - 5s 2ms/step - loss: 0.1411 - val_loss: 0.1410\n",
      "Epoch 16/100\n",
      "2873/2873 [==============================] - 5s 2ms/step - loss: 0.1410 - val_loss: 0.1406\n",
      "Epoch 17/100\n",
      "2873/2873 [==============================] - 5s 2ms/step - loss: 0.1409 - val_loss: 0.1400\n",
      "Epoch 18/100\n",
      "2873/2873 [==============================] - 5s 2ms/step - loss: 0.1408 - val_loss: 0.1400\n",
      "Epoch 19/100\n",
      "2873/2873 [==============================] - 5s 2ms/step - loss: 0.1407 - val_loss: 0.1399\n",
      "Epoch 20/100\n",
      "2873/2873 [==============================] - 5s 2ms/step - loss: 0.1406 - val_loss: 0.1398\n",
      "Epoch 21/100\n",
      "2873/2873 [==============================] - 5s 2ms/step - loss: 0.1405 - val_loss: 0.1398\n",
      "Epoch 22/100\n",
      "2873/2873 [==============================] - 5s 2ms/step - loss: 0.1405 - val_loss: 0.1402\n",
      "Epoch 23/100\n",
      "2873/2873 [==============================] - 5s 2ms/step - loss: 0.1404 - val_loss: 0.1400\n",
      "Epoch 24/100\n",
      "2873/2873 [==============================] - 5s 2ms/step - loss: 0.1404 - val_loss: 0.1397\n",
      "Epoch 25/100\n",
      "2873/2873 [==============================] - 5s 2ms/step - loss: 0.1403 - val_loss: 0.1400\n",
      "Epoch 26/100\n",
      "2873/2873 [==============================] - 5s 2ms/step - loss: 0.1403 - val_loss: 0.1396\n",
      "Epoch 27/100\n",
      "2873/2873 [==============================] - 6s 2ms/step - loss: 0.1402 - val_loss: 0.1397\n",
      "Epoch 28/100\n",
      "2873/2873 [==============================] - 5s 2ms/step - loss: 0.1402 - val_loss: 0.1398\n",
      "Epoch 29/100\n",
      "2873/2873 [==============================] - 5s 2ms/step - loss: 0.1402 - val_loss: 0.1395\n",
      "Epoch 30/100\n",
      "2873/2873 [==============================] - 5s 2ms/step - loss: 0.1401 - val_loss: 0.1398\n",
      "Epoch 31/100\n",
      "2873/2873 [==============================] - 5s 2ms/step - loss: 0.1401 - val_loss: 0.1396\n",
      "Epoch 32/100\n",
      "2873/2873 [==============================] - 5s 2ms/step - loss: 0.1400 - val_loss: 0.1401\n",
      "Epoch 33/100\n",
      "2873/2873 [==============================] - 5s 2ms/step - loss: 0.1400 - val_loss: 0.1398\n",
      "Epoch 34/100\n",
      "2873/2873 [==============================] - 5s 2ms/step - loss: 0.1400 - val_loss: 0.1396\n",
      "Epoch 35/100\n",
      "2873/2873 [==============================] - 5s 2ms/step - loss: 0.1399 - val_loss: 0.1396\n",
      "Epoch 36/100\n",
      "2873/2873 [==============================] - 5s 2ms/step - loss: 0.1399 - val_loss: 0.1396\n",
      "Epoch 37/100\n",
      "2873/2873 [==============================] - 5s 2ms/step - loss: 0.1399 - val_loss: 0.1394\n",
      "Epoch 38/100\n",
      "2873/2873 [==============================] - 5s 2ms/step - loss: 0.1398 - val_loss: 0.1394\n",
      "Epoch 39/100\n",
      "2873/2873 [==============================] - 5s 2ms/step - loss: 0.1398 - val_loss: 0.1397\n",
      "Epoch 40/100\n",
      " 856/2873 [=======>......................] - ETA: 2s - loss: 0.1393"
     ]
    }
   ],
   "source": [
    "from sklearn.model_selection import train_test_split\n",
    "from sklearn_pandas import DataFrameMapper\n",
    "from sklearn.preprocessing import OneHotEncoder, OrdinalEncoder, StandardScaler\n",
    "from tensorflow.keras import Sequential, Input\n",
    "from tensorflow.keras.layers import Dense\n",
    "from tensorflow.keras.callbacks import EarlyStopping\n",
    "from math import floor\n",
    "\n",
    "\n",
    "def run_pipeline(\n",
    "    data,\n",
    "    onehot_cols,\n",
    "    ordinal_cols,\n",
    "    batch_size,\n",
    "    epochs=100,\n",
    "    early_stop=False,\n",
    "    validate=True,\n",
    "):\n",
    "    X = data.drop(columns=[\"fraction_recovered\"])\n",
    "    y = data[\"fraction_recovered\"]\n",
    "    X_train, X_valid, y_train, y_valid = (\n",
    "        train_test_split(X, y, test_size=0.2, random_state=0)\n",
    "        if validate\n",
    "        else (X, None, y, None)\n",
    "    )\n",
    "\n",
    "    transformer = DataFrameMapper(\n",
    "        [\n",
    "            (onehot_cols, OneHotEncoder(drop=\"if_binary\")),\n",
    "            (\n",
    "                list(ordinal_cols.keys()),\n",
    "                OrdinalEncoder(categories=list(ordinal_cols.values())),\n",
    "            ),\n",
    "        ],\n",
    "        default=StandardScaler(),\n",
    "    )\n",
    "\n",
    "    X_train = transformer.fit_transform(X_train)\n",
    "    X_valid = transformer.transform(X_valid) if validate else None\n",
    "\n",
    "    input_nodes = X_train.shape[1]\n",
    "    output_nodes = 1\n",
    "    hidden_nodes = floor(input_nodes * 2 / 3) + output_nodes\n",
    "\n",
    "    model = Sequential()\n",
    "    model.add(Input((input_nodes,)))\n",
    "    model.add(Dense(hidden_nodes, activation=\"relu\"))\n",
    "    model.add(Dense(output_nodes))\n",
    "    model.compile(optimizer=\"adam\", loss=\"mean_absolute_error\")\n",
    "\n",
    "    history = model.fit(\n",
    "        X_train,\n",
    "        y_train,\n",
    "        batch_size=batch_size,\n",
    "        epochs=epochs,\n",
    "        validation_data=(X_valid, y_valid) if validate else None,\n",
    "        callbacks=EarlyStopping(\n",
    "            monitor=\"val_loss\", patience=10, restore_best_weights=True\n",
    "        )\n",
    "        if early_stop\n",
    "        else None,\n",
    "        verbose=1,\n",
    "    )\n",
    "\n",
    "    # Create a predictor that automatically transforms inputs\n",
    "    def model_predict(pred_input):\n",
    "        X_pred = transformer.transform(pred_input)\n",
    "        return model.predict(X_pred)\n",
    "\n",
    "    return history.history, model, transformer\n",
    "\n",
    "\n",
    "print(\"Model 1:\")\n",
    "history_1, _, _ = run_pipeline(\n",
    "    loans_1, onehot_cols, ordinal_cols, batch_size=128, early_stop=True,\n",
    ")\n",
    "print(\"\\nModel 2:\")\n",
    "history_2, _, _ = run_pipeline(\n",
    "    loans_2,\n",
    "    onehot_cols + new_metric_onehot_cols,\n",
    "    ordinal_cols,\n",
    "    batch_size=128,\n",
    "    early_stop=True,\n",
    ")\n",
    "print(\"\\nModel 3:\")\n",
    "history_3, _, _ = run_pipeline(\n",
    "    loans_3,\n",
    "    onehot_cols + new_metric_onehot_cols,\n",
    "    ordinal_cols,\n",
    "    batch_size=32,\n",
    "    early_stop=True,\n",
    ")"
   ]
  },
  {
   "cell_type": "markdown",
   "execution_count": null,
   "metadata": {},
   "source": [
    "The first model performed best, settling around a mean absolute error of 0.1160 in the validation set at about 41 epochs (though it seems even after setting `random_state` inside `train_test_split`, there's still a bit of entropy left in the training of the model, so the particular epoch number may change). Apparently the additional _records_ in the first dataset did more to aid in training than the additional _metrics_ in the subsequent sets."
   ]
  },
  {
   "cell_type": "code",
   "execution_count": 42,
   "metadata": {},
   "outputs": [
    {
     "data": {
      "image/png": "[encoded data removed]",
      "text/plain": [
       "<Figure size 432x288 with 1 Axes>"
      ]
     },
     "metadata": {
      "needs_background": "light"
     },
     "output_type": "display_data"
    }
   ],
   "source": [
    "epochs_1 = len(history_1[\"loss\"])\n",
    "sns.lineplot(x=range(1, epochs_1 + 1), y=history_1[\"loss\"], label=\"loss\")\n",
    "sns.lineplot(x=range(1, epochs_1 + 1), y=history_1[\"val_loss\"], label=\"val_loss\")\n",
    "plt.xlabel(\"epochs\")\n",
    "plt.title(\"Model 1 loss metrics during training\")\n",
    "plt.show()"
   ]
  },
  {
   "cell_type": "markdown",
   "execution_count": null,
   "metadata": {},
   "source": [
    "## Saving the final model\n",
    "\n",
    "First I need to _create_ the final model, training `model_1`'s architecture on the full dataset. Then I'll save the model to disk with its `save` function and save the data transformer using joblib so I can use it in the API."
   ]
  },
  {
   "cell_type": "code",
   "execution_count": 43,
   "metadata": {},
   "outputs": [
    {
     "name": "stdout",
     "output_type": "stream",
     "text": [
      "Epoch 1/40\n",
      "8674/8674 [==============================] - 12s 1ms/step - loss: 0.1373\n",
      "Epoch 2/40\n",
      "8674/8674 [==============================] - 12s 1ms/step - loss: 0.1209\n",
      "Epoch 3/40\n",
      "8674/8674 [==============================] - 12s 1ms/step - loss: 0.1191\n",
      "Epoch 4/40\n",
      "8674/8674 [==============================] - 12s 1ms/step - loss: 0.1182\n",
      "Epoch 5/40\n",
      "8674/8674 [==============================] - 13s 1ms/step - loss: 0.1176\n",
      "Epoch 6/40\n",
      "8674/8674 [==============================] - 12s 1ms/step - loss: 0.1172\n",
      "Epoch 7/40\n",
      "8674/8674 [==============================] - 12s 1ms/step - loss: 0.1169\n",
      "Epoch 8/40\n",
      "8674/8674 [==============================] - 12s 1ms/step - loss: 0.1167\n",
      "Epoch 9/40\n",
      "8674/8674 [==============================] - 12s 1ms/step - loss: 0.1167\n",
      "Epoch 10/40\n",
      "8674/8674 [==============================] - 12s 1ms/step - loss: 0.1166\n",
      "Epoch 11/40\n",
      "8674/8674 [==============================] - 12s 1ms/step - loss: 0.1165\n",
      "Epoch 12/40\n",
      "8674/8674 [==============================] - 12s 1ms/step - loss: 0.1164\n",
      "Epoch 13/40\n",
      "8674/8674 [==============================] - 12s 1ms/step - loss: 0.1164\n",
      "Epoch 14/40\n",
      "8674/8674 [==============================] - 12s 1ms/step - loss: 0.1163\n",
      "Epoch 15/40\n",
      "8674/8674 [==============================] - 17s 2ms/step - loss: 0.1163\n",
      "Epoch 16/40\n",
      "8674/8674 [==============================] - 12s 1ms/step - loss: 0.1163\n",
      "Epoch 17/40\n",
      "8674/8674 [==============================] - 12s 1ms/step - loss: 0.1162\n",
      "Epoch 18/40\n",
      "8674/8674 [==============================] - 12s 1ms/step - loss: 0.1162\n",
      "Epoch 19/40\n",
      "8674/8674 [==============================] - 12s 1ms/step - loss: 0.1162\n",
      "Epoch 20/40\n",
      "8674/8674 [==============================] - 12s 1ms/step - loss: 0.1161\n",
      "Epoch 21/40\n",
      "8674/8674 [==============================] - 13s 2ms/step - loss: 0.1161\n",
      "Epoch 22/40\n",
      "8674/8674 [==============================] - 12s 1ms/step - loss: 0.1161\n",
      "Epoch 23/40\n",
      "8674/8674 [==============================] - 12s 1ms/step - loss: 0.1160\n",
      "Epoch 24/40\n",
      "8674/8674 [==============================] - 12s 1ms/step - loss: 0.1159\n",
      "Epoch 25/40\n",
      "8674/8674 [==============================] - 12s 1ms/step - loss: 0.1159\n",
      "Epoch 26/40\n",
      "8674/8674 [==============================] - 12s 1ms/step - loss: 0.1159\n",
      "Epoch 27/40\n",
      "8674/8674 [==============================] - 12s 1ms/step - loss: 0.1158\n",
      "Epoch 28/40\n",
      "8674/8674 [==============================] - 12s 1ms/step - loss: 0.1158\n",
      "Epoch 29/40\n",
      "8674/8674 [==============================] - 12s 1ms/step - loss: 0.1158\n",
      "Epoch 30/40\n",
      "8674/8674 [==============================] - 12s 1ms/step - loss: 0.1158\n",
      "Epoch 31/40\n",
      "8674/8674 [==============================] - 12s 1ms/step - loss: 0.1157\n",
      "Epoch 32/40\n",
      "8674/8674 [==============================] - 12s 1ms/step - loss: 0.1158\n",
      "Epoch 33/40\n",
      "8674/8674 [==============================] - 12s 1ms/step - loss: 0.1158\n",
      "Epoch 34/40\n",
      "8674/8674 [==============================] - 12s 1ms/step - loss: 0.1158\n",
      "Epoch 35/40\n",
      "8674/8674 [==============================] - 12s 1ms/step - loss: 0.1158\n",
      "Epoch 36/40\n",
      "8674/8674 [==============================] - 12s 1ms/step - loss: 0.1157\n",
      "Epoch 37/40\n",
      "8674/8674 [==============================] - 12s 1ms/step - loss: 0.1157\n",
      "Epoch 38/40\n",
      "8674/8674 [==============================] - 12s 1ms/step - loss: 0.1157\n",
      "Epoch 39/40\n",
      "8674/8674 [==============================] - 12s 1ms/step - loss: 0.1157\n",
      "Epoch 40/40\n",
      "8674/8674 [==============================] - 13s 2ms/step - loss: 0.1157\n"
     ]
    },
    {
     "data": {
      "text/plain": [
       "['data_transformer.joblib']"
      ]
     },
     "execution_count": 43,
     "metadata": {},
     "output_type": "execute_result"
    }
   ],
   "source": [
    "import joblib\n",
    "\n",
    "_, final_model, final_transformer = run_pipeline(\n",
    "    loans_1,\n",
    "    onehot_cols,\n",
    "    ordinal_cols,\n",
    "    batch_size=128,\n",
    "    epochs=epochs_1 - 10,\n",
    "    early_stop=False,\n",
    "    validate=False,\n",
    ")\n",
    "\n",
    "final_model.save(\"loan_risk_model\")\n",
    "joblib.dump(final_transformer, \"data_transformer.joblib\")"
   ]
  },
  {
   "cell_type": "markdown",
   "execution_count": null,
   "metadata": {},
   "source": [
    "## Building the API\n",
    "\n",
    "I first tried building this API and its demonstrational front end on [Glitch](https://glitch.com/), which, officially, only supports Node.js back ends, but unofficially you can get a Python server running there (which I've [done before](https://ty-metricimpconverter-python.glitch.me/ \"Python metric-imperial converter microservice – Ty Mick\") using [Flask](https://flask.palletsprojects.com/)). When I was almost finished, though, I tried importing TensorFlow to load my model, and it was then that I discovered that unlike Node.js dependencies, Python dependencies get installed to your project's disk space on Glitch, and not even their pro plan provides enough space to contain the entire TensorFlow library. Which totally makes sense—I certainly wasn't using the platform as intended.\n",
    "\n",
    "Then I discovered [PythonAnywhere](https://www.pythonanywhere.com/)! They have plenty of common Python libraries already installed out-of-the-box, including TensorFlow, so I got everything working perfectly.\n",
    "\n",
    "So [head on over there](https://tywmick.pythonanywhere.com/ \"Neural Network Loan Risk Prediction API – Ty Mick\") if you'd like to check it out; the front end includes a form where you can fill in all the parameters for the API request, and it's prefilled with the median numeric values and most common categorical values from the dataset (since there are a lot to fill in). Or you can send a GET request to `https://tywmick.pythonanywhere.com/api/predict` if you really want to include every parameter in your query string. In either case, you're also more than welcome to take a look at its source [on GitHub](https://github.com/tywmick/loan-risk-neural-network).\n",
    "\n",
    "-----\n",
    "\n",
    "One of the best/worst things about machine learning is that your models _always_ have room for improvement. I mentioned a couple ideas along the way above for how I could improve the model in the future, but what's the first thing you would tweak in this model? I'd love to hear in the comments below."
   ]
  }
 ],
 "metadata": {
  "kernelspec": {
   "display_name": "Python 3",
   "language": "python",
   "name": "python3"
  },
  "language_info": {
   "codemirror_mode": {
    "name": "ipython",
    "version": 3
   },
   "file_extension": ".py",
   "mimetype": "text/x-python",
   "name": "python",
   "nbconvert_exporter": "python",
   "pygments_lexer": "ipython3",
   "version": "3.7.6"
  }
 },
 "nbformat": 4,
 "nbformat_minor": 4
}
